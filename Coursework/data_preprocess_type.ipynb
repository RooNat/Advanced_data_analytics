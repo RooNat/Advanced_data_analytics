{
 "cells": [
  {
   "cell_type": "code",
   "execution_count": 1,
   "metadata": {
    "collapsed": true,
    "pycharm": {
     "name": "#%%\n"
    }
   },
   "outputs": [],
   "source": [
    "import numpy as np\n",
    "import pandas as pd"
   ]
  },
  {
   "cell_type": "code",
   "execution_count": 33,
   "outputs": [],
   "source": [
    "#filepath1='./2011/Tenure_processed2_2011.xlsx'\n",
    "filepath2='./2021/General_processed_2021.xlsx'\n",
    "#df_tenure=pd.read_excel(filepath1)\n",
    "df_general=pd.read_excel(filepath2)"
   ],
   "metadata": {
    "collapsed": false,
    "pycharm": {
     "name": "#%%\n"
    }
   }
  },
  {
   "cell_type": "code",
   "execution_count": 35,
   "outputs": [
    {
     "data": {
      "text/plain": "     Date Local Authorities District   Geo Code       General Health Type   \n0    2021                       Adur  E07000223  Very good or good health  \\\n1    2021                  Allerdale  E07000026  Very good or good health   \n2    2021               Amber Valley  E07000032  Very good or good health   \n3    2021                       Arun  E07000224  Very good or good health   \n4    2021                   Ashfield  E07000170  Very good or good health   \n..    ...                        ...        ...                       ...   \n988  2021                    Torfaen  W06000020               Fair health   \n989  2021              Monmouthshire  W06000021               Fair health   \n990  2021                    Newport  W06000022               Fair health   \n991  2021                      Powys  W06000023               Fair health   \n992  2021             Merthyr Tydfil  W06000024               Fair health   \n\n     L1, L2 and L3: Higher managerial, administrative and professional occupations   \n0                                                 5279                              \\\n1                                                 6829                               \n2                                                10742                               \n3                                                12594                               \n4                                                 6878                               \n..                                                 ...                               \n988                                                857                               \n989                                               1323                               \n990                                               1427                               \n991                                               1436                               \n992                                                389                               \n\n     L4, L5 and L6: Lower managerial, administrative and professional occupations   \n0                                                 9150                             \\\n1                                                12168                              \n2                                                17452                              \n3                                                23063                              \n4                                                14174                              \n..                                                 ...                              \n988                                               2063                              \n989                                               2428                              \n990                                               3171                              \n991                                               3381                              \n992                                               1132                              \n\n     L7: Intermediate occupations   \n0                            5465  \\\n1                            6217   \n2                            9523   \n3                           13469   \n4                            9392   \n..                            ...   \n988                          1565   \n989                          1303   \n990                          2611   \n991                          1895   \n992                           855   \n\n     L8 and L9: Small employers and own account workers   \n0                                                 5612   \\\n1                                                 7304    \n2                                                 8288    \n3                                                14053    \n4                                                 6703    \n..                                                 ...    \n988                                               1007    \n989                                               1626    \n990                                               1510    \n991                                               3715    \n992                                                594    \n\n     L10 and L11: Lower supervisory and technical occupations   \n0                                                 2217         \\\n1                                                 4853          \n2                                                 5640          \n3                                                 6605          \n4                                                 5681          \n..                                                 ...          \n988                                               1066          \n989                                                749          \n990                                               1320          \n991                                               1189          \n992                                                688          \n\n     L12: Semi-routine occupations  L13: Routine occupations   \n0                             4833                      3637  \\\n1                             8324                      8677   \n2                             9492                     11229   \n3                            13842                     11653   \n4                            10580                     12668   \n..                             ...                       ...   \n988                           2296                      2815   \n989                           1695                      1796   \n990                           3225                      3824   \n991                           2988                      2621   \n992                           1404                      1771   \n\n     L14.1 and L14.2: Never worked and long-term unemployed   \n0                                                 1993       \\\n1                                                 3535        \n2                                                 3692        \n3                                                 5532        \n4                                                 4418        \n..                                                 ...        \n988                                               1957        \n989                                               1280        \n990                                               3527        \n991                                               2139        \n992                                               1509        \n\n     L15: Full-time students  \n0                       2362  \n1                       2885  \n2                       4139  \n3                       6022  \n4                       4205  \n..                       ...  \n988                      249  \n989                      188  \n990                      525  \n991                      280  \n992                      177  \n\n[993 rows x 13 columns]",
      "text/html": "<div>\n<style scoped>\n    .dataframe tbody tr th:only-of-type {\n        vertical-align: middle;\n    }\n\n    .dataframe tbody tr th {\n        vertical-align: top;\n    }\n\n    .dataframe thead th {\n        text-align: right;\n    }\n</style>\n<table border=\"1\" class=\"dataframe\">\n  <thead>\n    <tr style=\"text-align: right;\">\n      <th></th>\n      <th>Date</th>\n      <th>Local Authorities District</th>\n      <th>Geo Code</th>\n      <th>General Health Type</th>\n      <th>L1, L2 and L3: Higher managerial, administrative and professional occupations</th>\n      <th>L4, L5 and L6: Lower managerial, administrative and professional occupations</th>\n      <th>L7: Intermediate occupations</th>\n      <th>L8 and L9: Small employers and own account workers</th>\n      <th>L10 and L11: Lower supervisory and technical occupations</th>\n      <th>L12: Semi-routine occupations</th>\n      <th>L13: Routine occupations</th>\n      <th>L14.1 and L14.2: Never worked and long-term unemployed</th>\n      <th>L15: Full-time students</th>\n    </tr>\n  </thead>\n  <tbody>\n    <tr>\n      <th>0</th>\n      <td>2021</td>\n      <td>Adur</td>\n      <td>E07000223</td>\n      <td>Very good or good health</td>\n      <td>5279</td>\n      <td>9150</td>\n      <td>5465</td>\n      <td>5612</td>\n      <td>2217</td>\n      <td>4833</td>\n      <td>3637</td>\n      <td>1993</td>\n      <td>2362</td>\n    </tr>\n    <tr>\n      <th>1</th>\n      <td>2021</td>\n      <td>Allerdale</td>\n      <td>E07000026</td>\n      <td>Very good or good health</td>\n      <td>6829</td>\n      <td>12168</td>\n      <td>6217</td>\n      <td>7304</td>\n      <td>4853</td>\n      <td>8324</td>\n      <td>8677</td>\n      <td>3535</td>\n      <td>2885</td>\n    </tr>\n    <tr>\n      <th>2</th>\n      <td>2021</td>\n      <td>Amber Valley</td>\n      <td>E07000032</td>\n      <td>Very good or good health</td>\n      <td>10742</td>\n      <td>17452</td>\n      <td>9523</td>\n      <td>8288</td>\n      <td>5640</td>\n      <td>9492</td>\n      <td>11229</td>\n      <td>3692</td>\n      <td>4139</td>\n    </tr>\n    <tr>\n      <th>3</th>\n      <td>2021</td>\n      <td>Arun</td>\n      <td>E07000224</td>\n      <td>Very good or good health</td>\n      <td>12594</td>\n      <td>23063</td>\n      <td>13469</td>\n      <td>14053</td>\n      <td>6605</td>\n      <td>13842</td>\n      <td>11653</td>\n      <td>5532</td>\n      <td>6022</td>\n    </tr>\n    <tr>\n      <th>4</th>\n      <td>2021</td>\n      <td>Ashfield</td>\n      <td>E07000170</td>\n      <td>Very good or good health</td>\n      <td>6878</td>\n      <td>14174</td>\n      <td>9392</td>\n      <td>6703</td>\n      <td>5681</td>\n      <td>10580</td>\n      <td>12668</td>\n      <td>4418</td>\n      <td>4205</td>\n    </tr>\n    <tr>\n      <th>...</th>\n      <td>...</td>\n      <td>...</td>\n      <td>...</td>\n      <td>...</td>\n      <td>...</td>\n      <td>...</td>\n      <td>...</td>\n      <td>...</td>\n      <td>...</td>\n      <td>...</td>\n      <td>...</td>\n      <td>...</td>\n      <td>...</td>\n    </tr>\n    <tr>\n      <th>988</th>\n      <td>2021</td>\n      <td>Torfaen</td>\n      <td>W06000020</td>\n      <td>Fair health</td>\n      <td>857</td>\n      <td>2063</td>\n      <td>1565</td>\n      <td>1007</td>\n      <td>1066</td>\n      <td>2296</td>\n      <td>2815</td>\n      <td>1957</td>\n      <td>249</td>\n    </tr>\n    <tr>\n      <th>989</th>\n      <td>2021</td>\n      <td>Monmouthshire</td>\n      <td>W06000021</td>\n      <td>Fair health</td>\n      <td>1323</td>\n      <td>2428</td>\n      <td>1303</td>\n      <td>1626</td>\n      <td>749</td>\n      <td>1695</td>\n      <td>1796</td>\n      <td>1280</td>\n      <td>188</td>\n    </tr>\n    <tr>\n      <th>990</th>\n      <td>2021</td>\n      <td>Newport</td>\n      <td>W06000022</td>\n      <td>Fair health</td>\n      <td>1427</td>\n      <td>3171</td>\n      <td>2611</td>\n      <td>1510</td>\n      <td>1320</td>\n      <td>3225</td>\n      <td>3824</td>\n      <td>3527</td>\n      <td>525</td>\n    </tr>\n    <tr>\n      <th>991</th>\n      <td>2021</td>\n      <td>Powys</td>\n      <td>W06000023</td>\n      <td>Fair health</td>\n      <td>1436</td>\n      <td>3381</td>\n      <td>1895</td>\n      <td>3715</td>\n      <td>1189</td>\n      <td>2988</td>\n      <td>2621</td>\n      <td>2139</td>\n      <td>280</td>\n    </tr>\n    <tr>\n      <th>992</th>\n      <td>2021</td>\n      <td>Merthyr Tydfil</td>\n      <td>W06000024</td>\n      <td>Fair health</td>\n      <td>389</td>\n      <td>1132</td>\n      <td>855</td>\n      <td>594</td>\n      <td>688</td>\n      <td>1404</td>\n      <td>1771</td>\n      <td>1509</td>\n      <td>177</td>\n    </tr>\n  </tbody>\n</table>\n<p>993 rows × 13 columns</p>\n</div>"
     },
     "execution_count": 35,
     "metadata": {},
     "output_type": "execute_result"
    }
   ],
   "source": [
    "#df_tenure\n",
    "df_general"
   ],
   "metadata": {
    "collapsed": false,
    "pycharm": {
     "name": "#%%\n"
    }
   }
  },
  {
   "cell_type": "code",
   "execution_count": 18,
   "outputs": [
    {
     "data": {
      "text/plain": "Empty DataFrame\nColumns: [Date, Local Authorities District, Geo Code, Sex, General Health Type, Tenure Type, Population Values]\nIndex: []",
      "text/html": "<div>\n<style scoped>\n    .dataframe tbody tr th:only-of-type {\n        vertical-align: middle;\n    }\n\n    .dataframe tbody tr th {\n        vertical-align: top;\n    }\n\n    .dataframe thead th {\n        text-align: right;\n    }\n</style>\n<table border=\"1\" class=\"dataframe\">\n  <thead>\n    <tr style=\"text-align: right;\">\n      <th></th>\n      <th>Date</th>\n      <th>Local Authorities District</th>\n      <th>Geo Code</th>\n      <th>Sex</th>\n      <th>General Health Type</th>\n      <th>Tenure Type</th>\n      <th>Population Values</th>\n    </tr>\n  </thead>\n  <tbody>\n  </tbody>\n</table>\n</div>"
     },
     "execution_count": 18,
     "metadata": {},
     "output_type": "execute_result"
    }
   ],
   "source": [
    "columnsindex=['Date','Local Authorities District','Geo Code','Sex','General Health Type','Tenure Type','Population Values']\n",
    "child=pd.DataFrame(columns=columnsindex)\n",
    "child"
   ],
   "metadata": {
    "collapsed": false,
    "pycharm": {
     "name": "#%%\n"
    }
   }
  },
  {
   "cell_type": "code",
   "execution_count": 36,
   "outputs": [],
   "source": [
    "df_columns = df_general.loc[:, 'L1, L2 and L3: Higher managerial, administrative and professional occupations':'L15: Full-time students']\n",
    "columns_names=df_columns.columns"
   ],
   "metadata": {
    "collapsed": false,
    "pycharm": {
     "name": "#%%\n"
    }
   }
  },
  {
   "cell_type": "code",
   "execution_count": 37,
   "outputs": [
    {
     "data": {
      "text/plain": "array(['L1, L2 and L3: Higher managerial, administrative and professional occupations',\n       'L4, L5 and L6: Lower managerial, administrative and professional occupations',\n       'L7: Intermediate occupations',\n       'L8 and L9: Small employers and own account workers',\n       'L10 and L11: Lower supervisory and technical occupations',\n       'L12: Semi-routine occupations', 'L13: Routine occupations',\n       'L14.1 and L14.2: Never worked and long-term unemployed',\n       'L15: Full-time students'], dtype=object)"
     },
     "execution_count": 37,
     "metadata": {},
     "output_type": "execute_result"
    }
   ],
   "source": [
    "columns_names=columns_names.to_numpy()\n",
    "columns_names"
   ],
   "metadata": {
    "collapsed": false,
    "pycharm": {
     "name": "#%%\n"
    }
   }
  },
  {
   "cell_type": "code",
   "execution_count": 38,
   "outputs": [
    {
     "data": {
      "text/plain": "      Date Local Authorities District   Geo Code       General Health Type   \n0     2021                       Adur  E07000223  Very good or good health  \\\n1     2021                       Adur  E07000223  Very good or good health   \n2     2021                       Adur  E07000223  Very good or good health   \n3     2021                       Adur  E07000223  Very good or good health   \n4     2021                       Adur  E07000223  Very good or good health   \n...    ...                        ...        ...                       ...   \n8932  2021             Merthyr Tydfil  W06000024               Fair health   \n8933  2021             Merthyr Tydfil  W06000024               Fair health   \n8934  2021             Merthyr Tydfil  W06000024               Fair health   \n8935  2021             Merthyr Tydfil  W06000024               Fair health   \n8936  2021             Merthyr Tydfil  W06000024               Fair health   \n\n                                                 NS-Sec  Population Values  \n0     L1, L2 and L3: Higher managerial, administrati...               5279  \n1     L4, L5 and L6: Lower managerial, administrativ...               9150  \n2                          L7: Intermediate occupations               5465  \n3     L8 and L9: Small employers and own account wor...               5612  \n4     L10 and L11: Lower supervisory and technical o...               2217  \n...                                                 ...                ...  \n8932  L10 and L11: Lower supervisory and technical o...                688  \n8933                      L12: Semi-routine occupations               1404  \n8934                           L13: Routine occupations               1771  \n8935  L14.1 and L14.2: Never worked and long-term un...               1509  \n8936                            L15: Full-time students                177  \n\n[8937 rows x 6 columns]",
      "text/html": "<div>\n<style scoped>\n    .dataframe tbody tr th:only-of-type {\n        vertical-align: middle;\n    }\n\n    .dataframe tbody tr th {\n        vertical-align: top;\n    }\n\n    .dataframe thead th {\n        text-align: right;\n    }\n</style>\n<table border=\"1\" class=\"dataframe\">\n  <thead>\n    <tr style=\"text-align: right;\">\n      <th></th>\n      <th>Date</th>\n      <th>Local Authorities District</th>\n      <th>Geo Code</th>\n      <th>General Health Type</th>\n      <th>NS-Sec</th>\n      <th>Population Values</th>\n    </tr>\n  </thead>\n  <tbody>\n    <tr>\n      <th>0</th>\n      <td>2021</td>\n      <td>Adur</td>\n      <td>E07000223</td>\n      <td>Very good or good health</td>\n      <td>L1, L2 and L3: Higher managerial, administrati...</td>\n      <td>5279</td>\n    </tr>\n    <tr>\n      <th>1</th>\n      <td>2021</td>\n      <td>Adur</td>\n      <td>E07000223</td>\n      <td>Very good or good health</td>\n      <td>L4, L5 and L6: Lower managerial, administrativ...</td>\n      <td>9150</td>\n    </tr>\n    <tr>\n      <th>2</th>\n      <td>2021</td>\n      <td>Adur</td>\n      <td>E07000223</td>\n      <td>Very good or good health</td>\n      <td>L7: Intermediate occupations</td>\n      <td>5465</td>\n    </tr>\n    <tr>\n      <th>3</th>\n      <td>2021</td>\n      <td>Adur</td>\n      <td>E07000223</td>\n      <td>Very good or good health</td>\n      <td>L8 and L9: Small employers and own account wor...</td>\n      <td>5612</td>\n    </tr>\n    <tr>\n      <th>4</th>\n      <td>2021</td>\n      <td>Adur</td>\n      <td>E07000223</td>\n      <td>Very good or good health</td>\n      <td>L10 and L11: Lower supervisory and technical o...</td>\n      <td>2217</td>\n    </tr>\n    <tr>\n      <th>...</th>\n      <td>...</td>\n      <td>...</td>\n      <td>...</td>\n      <td>...</td>\n      <td>...</td>\n      <td>...</td>\n    </tr>\n    <tr>\n      <th>8932</th>\n      <td>2021</td>\n      <td>Merthyr Tydfil</td>\n      <td>W06000024</td>\n      <td>Fair health</td>\n      <td>L10 and L11: Lower supervisory and technical o...</td>\n      <td>688</td>\n    </tr>\n    <tr>\n      <th>8933</th>\n      <td>2021</td>\n      <td>Merthyr Tydfil</td>\n      <td>W06000024</td>\n      <td>Fair health</td>\n      <td>L12: Semi-routine occupations</td>\n      <td>1404</td>\n    </tr>\n    <tr>\n      <th>8934</th>\n      <td>2021</td>\n      <td>Merthyr Tydfil</td>\n      <td>W06000024</td>\n      <td>Fair health</td>\n      <td>L13: Routine occupations</td>\n      <td>1771</td>\n    </tr>\n    <tr>\n      <th>8935</th>\n      <td>2021</td>\n      <td>Merthyr Tydfil</td>\n      <td>W06000024</td>\n      <td>Fair health</td>\n      <td>L14.1 and L14.2: Never worked and long-term un...</td>\n      <td>1509</td>\n    </tr>\n    <tr>\n      <th>8936</th>\n      <td>2021</td>\n      <td>Merthyr Tydfil</td>\n      <td>W06000024</td>\n      <td>Fair health</td>\n      <td>L15: Full-time students</td>\n      <td>177</td>\n    </tr>\n  </tbody>\n</table>\n<p>8937 rows × 6 columns</p>\n</div>"
     },
     "execution_count": 38,
     "metadata": {},
     "output_type": "execute_result"
    }
   ],
   "source": [
    "dic=[]\n",
    "for index, row in df_general.iterrows():\n",
    "    for col in columns_names:\n",
    "        tmp_row=dict()\n",
    "        tmp_row['Date']=row['Date']\n",
    "        tmp_row['Local Authorities District']=row['Local Authorities District']\n",
    "        tmp_row['Geo Code']=row['Geo Code']\n",
    "        #tmp_row['Sex']=row['Sex']\n",
    "        tmp_row['General Health Type']=row['General Health Type']\n",
    "        tmp_row['NS-Sec']=col\n",
    "        tmp_row['Population Values']=row[col]\n",
    "        dic.append(tmp_row)\n",
    "df=pd.DataFrame(dic)\n",
    "df"
   ],
   "metadata": {
    "collapsed": false,
    "pycharm": {
     "name": "#%%\n"
    }
   }
  },
  {
   "cell_type": "code",
   "execution_count": 39,
   "outputs": [],
   "source": [
    "df.to_excel('./2021/NS_2021.xlsx')"
   ],
   "metadata": {
    "collapsed": false,
    "pycharm": {
     "name": "#%%\n"
    }
   }
  },
  {
   "cell_type": "code",
   "execution_count": null,
   "outputs": [],
   "source": [],
   "metadata": {
    "collapsed": false,
    "pycharm": {
     "name": "#%%\n"
    }
   }
  }
 ],
 "metadata": {
  "kernelspec": {
   "display_name": "Python 3",
   "language": "python",
   "name": "python3"
  },
  "language_info": {
   "codemirror_mode": {
    "name": "ipython",
    "version": 2
   },
   "file_extension": ".py",
   "mimetype": "text/x-python",
   "name": "python",
   "nbconvert_exporter": "python",
   "pygments_lexer": "ipython2",
   "version": "2.7.6"
  }
 },
 "nbformat": 4,
 "nbformat_minor": 0
}