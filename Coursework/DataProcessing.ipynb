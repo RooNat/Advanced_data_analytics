{
 "cells": [
  {
   "cell_type": "code",
   "execution_count": 2,
   "metadata": {
    "collapsed": true,
    "pycharm": {
     "name": "#%%\n"
    }
   },
   "outputs": [],
   "source": [
    "import numpy as np\n",
    "import pandas as pd"
   ]
  },
  {
   "cell_type": "markdown",
   "source": [
    "# Data Processing"
   ],
   "metadata": {
    "collapsed": false,
    "pycharm": {
     "name": "#%% md\n"
    }
   }
  },
  {
   "cell_type": "code",
   "execution_count": 196,
   "outputs": [],
   "source": [
    "# hours1=pd.read_excel(\"./2011/Hour Worked_2011.xlsx\")\n",
    "# hours2=pd.read_excel('./2021/Hour_Worked_2021.xlsx')"
   ],
   "metadata": {
    "collapsed": false,
    "pycharm": {
     "name": "#%%\n"
    }
   }
  },
  {
   "cell_type": "code",
   "execution_count": 197,
   "outputs": [],
   "source": [
    "df=pd.read_excel('./2011/Tenure_processed.xlsx')\n",
    "#enure=pd.read_excel('./2011/Tenure_2011.xlsx',sheet_name=None)"
   ],
   "metadata": {
    "collapsed": false,
    "pycharm": {
     "name": "#%%\n"
    }
   }
  },
  {
   "cell_type": "code",
   "execution_count": 198,
   "outputs": [],
   "source": [
    "# def rename_col(data):\n",
    "#     data.columns=['Local Authorities District','Geo Code','L1, L2 and L3: Higher managerial, administrative and professional occupations','L4, L5 and L6: Lower managerial, administrative and professional occupations','L7: Intermediate occupations','L8 and L9: Small employers and own account workers','L10 and L11: Lower supervisory and technical occupations','L12: Semi-routine occupations','L13: Routine occupations','L14.1 and L14.2: Never worked and long-term unemployed','L15: Full-time students']\n",
    "#     return data\n",
    "def rename_col(data):\n",
    "    data.columns=['Local Authorities District','Geo Code','Owned: Owned outright','Owned: Owned with a mortgage or loan or shared ownership','Rented: Social rented','Rented: Private rented or living rent free']\n",
    "    return data"
   ],
   "metadata": {
    "collapsed": false,
    "pycharm": {
     "name": "#%%\n"
    }
   }
  },
  {
   "cell_type": "code",
   "execution_count": 199,
   "outputs": [],
   "source": [
    "# dfs=[]\n",
    "# for sheet_name,sheet_data in general.items():\n",
    "#     sheet_data=rename_col(sheet_data)\n",
    "#     class_name=sheet_name.split(';')\n",
    "#     sheet_data['Sex']=class_name[0]\n",
    "#     sheet_data['General Health Type']=class_name[1]\n",
    "#     dfs.append(sheet_data)\n",
    "    #print(class_name)\n",
    "    #print(sheet_data.columns)"
   ],
   "metadata": {
    "collapsed": false,
    "pycharm": {
     "name": "#%%\n"
    }
   }
  },
  {
   "cell_type": "code",
   "execution_count": 200,
   "outputs": [],
   "source": [
    "# combined_df=pd.concat(dfs, axis=0, ignore_index=True)\n",
    "# combined_df=pd.DataFrame(combined_df)\n",
    "# type(combined_df)"
   ],
   "metadata": {
    "collapsed": false,
    "pycharm": {
     "name": "#%%\n"
    }
   }
  },
  {
   "cell_type": "code",
   "execution_count": 201,
   "outputs": [
    {
     "name": "stderr",
     "output_type": "stream",
     "text": [
      "/var/folders/vp/8_rd4_c56g3dpqb1167z6tqr0000gn/T/ipykernel_8577/3339796379.py:5: SettingWithCopyWarning: \n",
      "A value is trying to be set on a copy of a slice from a DataFrame.\n",
      "Try using .loc[row_indexer,col_indexer] = value instead\n",
      "\n",
      "See the caveats in the documentation: https://pandas.pydata.org/pandas-docs/stable/user_guide/indexing.html#returning-a-view-versus-a-copy\n",
      "  filtered_df['General Health Type'] = 'Not good health'\n"
     ]
    }
   ],
   "source": [
    "import pandas as pd\n",
    "\n",
    "filtered_df = df[(df['General Health Type'].isin(['Fair health', 'Bad or very bad health'])) & (df.duplicated(subset=['Local Authorities District'], keep=False))]\n",
    "\n",
    "filtered_df['General Health Type'] = 'Not good health'\n",
    "\n",
    "summed_rows_good = filtered_df.groupby(['Local Authorities District', 'Geo Code','General Health Type']).sum().reset_index()"
   ],
   "metadata": {
    "collapsed": false,
    "pycharm": {
     "name": "#%%\n"
    }
   }
  },
  {
   "cell_type": "code",
   "execution_count": 202,
   "outputs": [],
   "source": [
    "# filtered_df_bad = df[(df['General Health Type'].isin(['Very bad health', 'Bad health'])) & (df.duplicated(subset=['Local Authorities District'], keep=False))]\n",
    "#\n",
    "# filtered_df_bad['General Health Type'] = 'Bad or very bad health'\n",
    "#\n",
    "# summed_rows_bad = filtered_df_bad.groupby(['Date','Local Authorities District', 'Geo Code','General Health Type']).sum().reset_index()"
   ],
   "metadata": {
    "collapsed": false,
    "pycharm": {
     "name": "#%%\n"
    }
   }
  },
  {
   "cell_type": "code",
   "execution_count": 203,
   "outputs": [
    {
     "data": {
      "text/plain": "     Local Authorities District   Geo Code  Owned: Owned outright   \n1044                 Darlington  E06000005                   9336  \\\n1045              County Durham  E06000047                  43918   \n1046                 Hartlepool  E06000001                   6917   \n1047              Middlesbrough  E06000002                  10469   \n1048             Northumberland  E06000057                  32406   \n...                         ...        ...                    ...   \n1387                 Caerphilly  W06000018                  14228   \n1388              Blaenau Gwent  W06000019                   5590   \n1389                    Torfaen  W06000020                   7462   \n1390              Monmouthshire  W06000021                  11133   \n1391                    Newport  W06000022                  11780   \n\n      Owned: Owned with a mortgage or loan or shared ownership   \n1044                                              20179         \\\n1045                                              92752          \n1046                                              16507          \n1047                                              22912          \n1048                                              55536          \n...                                                 ...          \n1387                                              33771          \n1388                                              10771          \n1389                                              16525          \n1390                                              16688          \n1391                                              26706          \n\n      Rented: Social rented  Rented: Private rented or living rent free   \n1044                   4880                                        8052  \\\n1045                  26299                                       29345   \n1046                   6295                                        5684   \n1047                  10257                                       10382   \n1048                  18609                                       18264   \n...                     ...                                         ...   \n1387                  10345                                        8434   \n1388                   5144                                        3735   \n1389                   7168                                        3481   \n1390                   3968                                        4445   \n1391                   9494                                        8867   \n\n          Sex       General Health Type  \n1044  Females  Very good or good health  \n1045  Females  Very good or good health  \n1046  Females  Very good or good health  \n1047  Females  Very good or good health  \n1048  Females  Very good or good health  \n...       ...                       ...  \n1387  Females  Very good or good health  \n1388  Females  Very good or good health  \n1389  Females  Very good or good health  \n1390  Females  Very good or good health  \n1391  Females  Very good or good health  \n\n[348 rows x 8 columns]",
      "text/html": "<div>\n<style scoped>\n    .dataframe tbody tr th:only-of-type {\n        vertical-align: middle;\n    }\n\n    .dataframe tbody tr th {\n        vertical-align: top;\n    }\n\n    .dataframe thead th {\n        text-align: right;\n    }\n</style>\n<table border=\"1\" class=\"dataframe\">\n  <thead>\n    <tr style=\"text-align: right;\">\n      <th></th>\n      <th>Local Authorities District</th>\n      <th>Geo Code</th>\n      <th>Owned: Owned outright</th>\n      <th>Owned: Owned with a mortgage or loan or shared ownership</th>\n      <th>Rented: Social rented</th>\n      <th>Rented: Private rented or living rent free</th>\n      <th>Sex</th>\n      <th>General Health Type</th>\n    </tr>\n  </thead>\n  <tbody>\n    <tr>\n      <th>1044</th>\n      <td>Darlington</td>\n      <td>E06000005</td>\n      <td>9336</td>\n      <td>20179</td>\n      <td>4880</td>\n      <td>8052</td>\n      <td>Females</td>\n      <td>Very good or good health</td>\n    </tr>\n    <tr>\n      <th>1045</th>\n      <td>County Durham</td>\n      <td>E06000047</td>\n      <td>43918</td>\n      <td>92752</td>\n      <td>26299</td>\n      <td>29345</td>\n      <td>Females</td>\n      <td>Very good or good health</td>\n    </tr>\n    <tr>\n      <th>1046</th>\n      <td>Hartlepool</td>\n      <td>E06000001</td>\n      <td>6917</td>\n      <td>16507</td>\n      <td>6295</td>\n      <td>5684</td>\n      <td>Females</td>\n      <td>Very good or good health</td>\n    </tr>\n    <tr>\n      <th>1047</th>\n      <td>Middlesbrough</td>\n      <td>E06000002</td>\n      <td>10469</td>\n      <td>22912</td>\n      <td>10257</td>\n      <td>10382</td>\n      <td>Females</td>\n      <td>Very good or good health</td>\n    </tr>\n    <tr>\n      <th>1048</th>\n      <td>Northumberland</td>\n      <td>E06000057</td>\n      <td>32406</td>\n      <td>55536</td>\n      <td>18609</td>\n      <td>18264</td>\n      <td>Females</td>\n      <td>Very good or good health</td>\n    </tr>\n    <tr>\n      <th>...</th>\n      <td>...</td>\n      <td>...</td>\n      <td>...</td>\n      <td>...</td>\n      <td>...</td>\n      <td>...</td>\n      <td>...</td>\n      <td>...</td>\n    </tr>\n    <tr>\n      <th>1387</th>\n      <td>Caerphilly</td>\n      <td>W06000018</td>\n      <td>14228</td>\n      <td>33771</td>\n      <td>10345</td>\n      <td>8434</td>\n      <td>Females</td>\n      <td>Very good or good health</td>\n    </tr>\n    <tr>\n      <th>1388</th>\n      <td>Blaenau Gwent</td>\n      <td>W06000019</td>\n      <td>5590</td>\n      <td>10771</td>\n      <td>5144</td>\n      <td>3735</td>\n      <td>Females</td>\n      <td>Very good or good health</td>\n    </tr>\n    <tr>\n      <th>1389</th>\n      <td>Torfaen</td>\n      <td>W06000020</td>\n      <td>7462</td>\n      <td>16525</td>\n      <td>7168</td>\n      <td>3481</td>\n      <td>Females</td>\n      <td>Very good or good health</td>\n    </tr>\n    <tr>\n      <th>1390</th>\n      <td>Monmouthshire</td>\n      <td>W06000021</td>\n      <td>11133</td>\n      <td>16688</td>\n      <td>3968</td>\n      <td>4445</td>\n      <td>Females</td>\n      <td>Very good or good health</td>\n    </tr>\n    <tr>\n      <th>1391</th>\n      <td>Newport</td>\n      <td>W06000022</td>\n      <td>11780</td>\n      <td>26706</td>\n      <td>9494</td>\n      <td>8867</td>\n      <td>Females</td>\n      <td>Very good or good health</td>\n    </tr>\n  </tbody>\n</table>\n<p>348 rows × 8 columns</p>\n</div>"
     },
     "execution_count": 203,
     "metadata": {},
     "output_type": "execute_result"
    }
   ],
   "source": [
    "filter_fair=df[(df['General Health Type']=='Very good or good health')]\n",
    "filter_fair"
   ],
   "metadata": {
    "collapsed": false,
    "pycharm": {
     "name": "#%%\n"
    }
   }
  },
  {
   "cell_type": "code",
   "execution_count": 204,
   "outputs": [
    {
     "data": {
      "text/plain": "    Local Authorities District   Geo Code General Health Type   \n0                         Adur  E07000223     Not good health  \\\n1                    Allerdale  E07000026     Not good health   \n2                 Amber Valley  E07000032     Not good health   \n3                         Arun  E07000224     Not good health   \n4                     Ashfield  E07000170     Not good health   \n..                         ...        ...                 ...   \n343                   Wychavon  E07000238     Not good health   \n344                    Wycombe  E07000007     Not good health   \n345                       Wyre  E07000128     Not good health   \n346                Wyre Forest  E07000239     Not good health   \n347                       York  E06000014     Not good health   \n\n     Owned: Owned outright   \n0                     5802  \\\n1                     9240   \n2                    12162   \n3                    15479   \n4                    12215   \n..                     ...   \n343                   9666   \n344                  10053   \n345                  12794   \n346                   9272   \n347                  14202   \n\n     Owned: Owned with a mortgage or loan or shared ownership   \n0                                                 2964         \\\n1                                                 3096          \n2                                                 4801          \n3                                                 6311          \n4                                                 5651          \n..                                                 ...          \n343                                               4123          \n344                                               5755          \n345                                               5278          \n346                                               4098          \n347                                               5842          \n\n     Rented: Social rented  Rented: Private rented or living rent free   \n0                     2372                                        1141  \\\n1                     5342                                        1779   \n2                     5139                                        2663   \n3                     4065                                        3954   \n4                     6315                                        2979   \n..                     ...                                         ...   \n343                   4689                                        1801   \n344                   5216                                        2597   \n345                   2682                                        3330   \n346                   4643                                        2126   \n347                   7029                                        3331   \n\n                          Sex  \n0    MalesMalesFemalesFemales  \n1    MalesMalesFemalesFemales  \n2    MalesMalesFemalesFemales  \n3    MalesMalesFemalesFemales  \n4    MalesMalesFemalesFemales  \n..                        ...  \n343  MalesMalesFemalesFemales  \n344  MalesMalesFemalesFemales  \n345  MalesMalesFemalesFemales  \n346  MalesMalesFemalesFemales  \n347  MalesMalesFemalesFemales  \n\n[348 rows x 8 columns]",
      "text/html": "<div>\n<style scoped>\n    .dataframe tbody tr th:only-of-type {\n        vertical-align: middle;\n    }\n\n    .dataframe tbody tr th {\n        vertical-align: top;\n    }\n\n    .dataframe thead th {\n        text-align: right;\n    }\n</style>\n<table border=\"1\" class=\"dataframe\">\n  <thead>\n    <tr style=\"text-align: right;\">\n      <th></th>\n      <th>Local Authorities District</th>\n      <th>Geo Code</th>\n      <th>General Health Type</th>\n      <th>Owned: Owned outright</th>\n      <th>Owned: Owned with a mortgage or loan or shared ownership</th>\n      <th>Rented: Social rented</th>\n      <th>Rented: Private rented or living rent free</th>\n      <th>Sex</th>\n    </tr>\n  </thead>\n  <tbody>\n    <tr>\n      <th>0</th>\n      <td>Adur</td>\n      <td>E07000223</td>\n      <td>Not good health</td>\n      <td>5802</td>\n      <td>2964</td>\n      <td>2372</td>\n      <td>1141</td>\n      <td>MalesMalesFemalesFemales</td>\n    </tr>\n    <tr>\n      <th>1</th>\n      <td>Allerdale</td>\n      <td>E07000026</td>\n      <td>Not good health</td>\n      <td>9240</td>\n      <td>3096</td>\n      <td>5342</td>\n      <td>1779</td>\n      <td>MalesMalesFemalesFemales</td>\n    </tr>\n    <tr>\n      <th>2</th>\n      <td>Amber Valley</td>\n      <td>E07000032</td>\n      <td>Not good health</td>\n      <td>12162</td>\n      <td>4801</td>\n      <td>5139</td>\n      <td>2663</td>\n      <td>MalesMalesFemalesFemales</td>\n    </tr>\n    <tr>\n      <th>3</th>\n      <td>Arun</td>\n      <td>E07000224</td>\n      <td>Not good health</td>\n      <td>15479</td>\n      <td>6311</td>\n      <td>4065</td>\n      <td>3954</td>\n      <td>MalesMalesFemalesFemales</td>\n    </tr>\n    <tr>\n      <th>4</th>\n      <td>Ashfield</td>\n      <td>E07000170</td>\n      <td>Not good health</td>\n      <td>12215</td>\n      <td>5651</td>\n      <td>6315</td>\n      <td>2979</td>\n      <td>MalesMalesFemalesFemales</td>\n    </tr>\n    <tr>\n      <th>...</th>\n      <td>...</td>\n      <td>...</td>\n      <td>...</td>\n      <td>...</td>\n      <td>...</td>\n      <td>...</td>\n      <td>...</td>\n      <td>...</td>\n    </tr>\n    <tr>\n      <th>343</th>\n      <td>Wychavon</td>\n      <td>E07000238</td>\n      <td>Not good health</td>\n      <td>9666</td>\n      <td>4123</td>\n      <td>4689</td>\n      <td>1801</td>\n      <td>MalesMalesFemalesFemales</td>\n    </tr>\n    <tr>\n      <th>344</th>\n      <td>Wycombe</td>\n      <td>E07000007</td>\n      <td>Not good health</td>\n      <td>10053</td>\n      <td>5755</td>\n      <td>5216</td>\n      <td>2597</td>\n      <td>MalesMalesFemalesFemales</td>\n    </tr>\n    <tr>\n      <th>345</th>\n      <td>Wyre</td>\n      <td>E07000128</td>\n      <td>Not good health</td>\n      <td>12794</td>\n      <td>5278</td>\n      <td>2682</td>\n      <td>3330</td>\n      <td>MalesMalesFemalesFemales</td>\n    </tr>\n    <tr>\n      <th>346</th>\n      <td>Wyre Forest</td>\n      <td>E07000239</td>\n      <td>Not good health</td>\n      <td>9272</td>\n      <td>4098</td>\n      <td>4643</td>\n      <td>2126</td>\n      <td>MalesMalesFemalesFemales</td>\n    </tr>\n    <tr>\n      <th>347</th>\n      <td>York</td>\n      <td>E06000014</td>\n      <td>Not good health</td>\n      <td>14202</td>\n      <td>5842</td>\n      <td>7029</td>\n      <td>3331</td>\n      <td>MalesMalesFemalesFemales</td>\n    </tr>\n  </tbody>\n</table>\n<p>348 rows × 8 columns</p>\n</div>"
     },
     "execution_count": 204,
     "metadata": {},
     "output_type": "execute_result"
    }
   ],
   "source": [
    "summed_rows_good"
   ],
   "metadata": {
    "collapsed": false,
    "pycharm": {
     "name": "#%%\n"
    }
   }
  },
  {
   "cell_type": "code",
   "execution_count": 205,
   "outputs": [
    {
     "data": {
      "text/plain": "     Local Authorities District   Geo Code  Owned: Owned outright   \n282                        Adur  E07000223                   5686  \\\n630                        Adur  E07000223                   1945   \n978                        Adur  E07000223                    633   \n1326                       Adur  E07000223                   6538   \n1674                       Adur  E07000223                   2436   \n2022                       Adur  E07000223                    788   \n\n      Owned: Owned with a mortgage or loan or shared ownership   \n282                                               12083         \\\n630                                                1096          \n978                                                 316          \n1326                                              11806          \n1674                                               1173          \n2022                                                379          \n\n      Rented: Social rented  Rented: Private rented or living rent free   \n282                    2674                                        3200  \\\n630                     623                                         387   \n978                     418                                         150   \n1326                   3045                                        3113   \n1674                    885                                         424   \n2022                    446                                         180   \n\n          Sex         General Health Type  \n282     Males  Very good or good healthth  \n630     Males                 Fair health  \n978     Males      Bad or very bad health  \n1326  Females    Very good or good health  \n1674  Females                 Fair health  \n2022  Females      Bad or very bad health  ",
      "text/html": "<div>\n<style scoped>\n    .dataframe tbody tr th:only-of-type {\n        vertical-align: middle;\n    }\n\n    .dataframe tbody tr th {\n        vertical-align: top;\n    }\n\n    .dataframe thead th {\n        text-align: right;\n    }\n</style>\n<table border=\"1\" class=\"dataframe\">\n  <thead>\n    <tr style=\"text-align: right;\">\n      <th></th>\n      <th>Local Authorities District</th>\n      <th>Geo Code</th>\n      <th>Owned: Owned outright</th>\n      <th>Owned: Owned with a mortgage or loan or shared ownership</th>\n      <th>Rented: Social rented</th>\n      <th>Rented: Private rented or living rent free</th>\n      <th>Sex</th>\n      <th>General Health Type</th>\n    </tr>\n  </thead>\n  <tbody>\n    <tr>\n      <th>282</th>\n      <td>Adur</td>\n      <td>E07000223</td>\n      <td>5686</td>\n      <td>12083</td>\n      <td>2674</td>\n      <td>3200</td>\n      <td>Males</td>\n      <td>Very good or good healthth</td>\n    </tr>\n    <tr>\n      <th>630</th>\n      <td>Adur</td>\n      <td>E07000223</td>\n      <td>1945</td>\n      <td>1096</td>\n      <td>623</td>\n      <td>387</td>\n      <td>Males</td>\n      <td>Fair health</td>\n    </tr>\n    <tr>\n      <th>978</th>\n      <td>Adur</td>\n      <td>E07000223</td>\n      <td>633</td>\n      <td>316</td>\n      <td>418</td>\n      <td>150</td>\n      <td>Males</td>\n      <td>Bad or very bad health</td>\n    </tr>\n    <tr>\n      <th>1326</th>\n      <td>Adur</td>\n      <td>E07000223</td>\n      <td>6538</td>\n      <td>11806</td>\n      <td>3045</td>\n      <td>3113</td>\n      <td>Females</td>\n      <td>Very good or good health</td>\n    </tr>\n    <tr>\n      <th>1674</th>\n      <td>Adur</td>\n      <td>E07000223</td>\n      <td>2436</td>\n      <td>1173</td>\n      <td>885</td>\n      <td>424</td>\n      <td>Females</td>\n      <td>Fair health</td>\n    </tr>\n    <tr>\n      <th>2022</th>\n      <td>Adur</td>\n      <td>E07000223</td>\n      <td>788</td>\n      <td>379</td>\n      <td>446</td>\n      <td>180</td>\n      <td>Females</td>\n      <td>Bad or very bad health</td>\n    </tr>\n  </tbody>\n</table>\n</div>"
     },
     "execution_count": 205,
     "metadata": {},
     "output_type": "execute_result"
    }
   ],
   "source": [
    "df[(df['Local Authorities District']=='Adur')]"
   ],
   "metadata": {
    "collapsed": false,
    "pycharm": {
     "name": "#%%\n"
    }
   }
  },
  {
   "cell_type": "code",
   "execution_count": 206,
   "outputs": [],
   "source": [
    "#summed_rows_bad"
   ],
   "metadata": {
    "collapsed": false,
    "pycharm": {
     "name": "#%%\n"
    }
   }
  },
  {
   "cell_type": "code",
   "execution_count": 207,
   "outputs": [
    {
     "data": {
      "text/plain": "     Local Authorities District   Geo Code       General Health Type   \n0                          Adur  E07000223           Not good health  \\\n1                     Allerdale  E07000026           Not good health   \n2                  Amber Valley  E07000032           Not good health   \n3                          Arun  E07000224           Not good health   \n4                      Ashfield  E07000170           Not good health   \n...                         ...        ...                       ...   \n1387                 Caerphilly  W06000018  Very good or good health   \n1388              Blaenau Gwent  W06000019  Very good or good health   \n1389                    Torfaen  W06000020  Very good or good health   \n1390              Monmouthshire  W06000021  Very good or good health   \n1391                    Newport  W06000022  Very good or good health   \n\n      Owned: Owned outright   \n0                      5802  \\\n1                      9240   \n2                     12162   \n3                     15479   \n4                     12215   \n...                     ...   \n1387                  14228   \n1388                   5590   \n1389                   7462   \n1390                  11133   \n1391                  11780   \n\n      Owned: Owned with a mortgage or loan or shared ownership   \n0                                                  2964         \\\n1                                                  3096          \n2                                                  4801          \n3                                                  6311          \n4                                                  5651          \n...                                                 ...          \n1387                                              33771          \n1388                                              10771          \n1389                                              16525          \n1390                                              16688          \n1391                                              26706          \n\n      Rented: Social rented  Rented: Private rented or living rent free   \n0                      2372                                        1141  \\\n1                      5342                                        1779   \n2                      5139                                        2663   \n3                      4065                                        3954   \n4                      6315                                        2979   \n...                     ...                                         ...   \n1387                  10345                                        8434   \n1388                   5144                                        3735   \n1389                   7168                                        3481   \n1390                   3968                                        4445   \n1391                   9494                                        8867   \n\n                           Sex  \n0     MalesMalesFemalesFemales  \n1     MalesMalesFemalesFemales  \n2     MalesMalesFemalesFemales  \n3     MalesMalesFemalesFemales  \n4     MalesMalesFemalesFemales  \n...                        ...  \n1387                   Females  \n1388                   Females  \n1389                   Females  \n1390                   Females  \n1391                   Females  \n\n[696 rows x 8 columns]",
      "text/html": "<div>\n<style scoped>\n    .dataframe tbody tr th:only-of-type {\n        vertical-align: middle;\n    }\n\n    .dataframe tbody tr th {\n        vertical-align: top;\n    }\n\n    .dataframe thead th {\n        text-align: right;\n    }\n</style>\n<table border=\"1\" class=\"dataframe\">\n  <thead>\n    <tr style=\"text-align: right;\">\n      <th></th>\n      <th>Local Authorities District</th>\n      <th>Geo Code</th>\n      <th>General Health Type</th>\n      <th>Owned: Owned outright</th>\n      <th>Owned: Owned with a mortgage or loan or shared ownership</th>\n      <th>Rented: Social rented</th>\n      <th>Rented: Private rented or living rent free</th>\n      <th>Sex</th>\n    </tr>\n  </thead>\n  <tbody>\n    <tr>\n      <th>0</th>\n      <td>Adur</td>\n      <td>E07000223</td>\n      <td>Not good health</td>\n      <td>5802</td>\n      <td>2964</td>\n      <td>2372</td>\n      <td>1141</td>\n      <td>MalesMalesFemalesFemales</td>\n    </tr>\n    <tr>\n      <th>1</th>\n      <td>Allerdale</td>\n      <td>E07000026</td>\n      <td>Not good health</td>\n      <td>9240</td>\n      <td>3096</td>\n      <td>5342</td>\n      <td>1779</td>\n      <td>MalesMalesFemalesFemales</td>\n    </tr>\n    <tr>\n      <th>2</th>\n      <td>Amber Valley</td>\n      <td>E07000032</td>\n      <td>Not good health</td>\n      <td>12162</td>\n      <td>4801</td>\n      <td>5139</td>\n      <td>2663</td>\n      <td>MalesMalesFemalesFemales</td>\n    </tr>\n    <tr>\n      <th>3</th>\n      <td>Arun</td>\n      <td>E07000224</td>\n      <td>Not good health</td>\n      <td>15479</td>\n      <td>6311</td>\n      <td>4065</td>\n      <td>3954</td>\n      <td>MalesMalesFemalesFemales</td>\n    </tr>\n    <tr>\n      <th>4</th>\n      <td>Ashfield</td>\n      <td>E07000170</td>\n      <td>Not good health</td>\n      <td>12215</td>\n      <td>5651</td>\n      <td>6315</td>\n      <td>2979</td>\n      <td>MalesMalesFemalesFemales</td>\n    </tr>\n    <tr>\n      <th>...</th>\n      <td>...</td>\n      <td>...</td>\n      <td>...</td>\n      <td>...</td>\n      <td>...</td>\n      <td>...</td>\n      <td>...</td>\n      <td>...</td>\n    </tr>\n    <tr>\n      <th>1387</th>\n      <td>Caerphilly</td>\n      <td>W06000018</td>\n      <td>Very good or good health</td>\n      <td>14228</td>\n      <td>33771</td>\n      <td>10345</td>\n      <td>8434</td>\n      <td>Females</td>\n    </tr>\n    <tr>\n      <th>1388</th>\n      <td>Blaenau Gwent</td>\n      <td>W06000019</td>\n      <td>Very good or good health</td>\n      <td>5590</td>\n      <td>10771</td>\n      <td>5144</td>\n      <td>3735</td>\n      <td>Females</td>\n    </tr>\n    <tr>\n      <th>1389</th>\n      <td>Torfaen</td>\n      <td>W06000020</td>\n      <td>Very good or good health</td>\n      <td>7462</td>\n      <td>16525</td>\n      <td>7168</td>\n      <td>3481</td>\n      <td>Females</td>\n    </tr>\n    <tr>\n      <th>1390</th>\n      <td>Monmouthshire</td>\n      <td>W06000021</td>\n      <td>Very good or good health</td>\n      <td>11133</td>\n      <td>16688</td>\n      <td>3968</td>\n      <td>4445</td>\n      <td>Females</td>\n    </tr>\n    <tr>\n      <th>1391</th>\n      <td>Newport</td>\n      <td>W06000022</td>\n      <td>Very good or good health</td>\n      <td>11780</td>\n      <td>26706</td>\n      <td>9494</td>\n      <td>8867</td>\n      <td>Females</td>\n    </tr>\n  </tbody>\n</table>\n<p>696 rows × 8 columns</p>\n</div>"
     },
     "execution_count": 207,
     "metadata": {},
     "output_type": "execute_result"
    }
   ],
   "source": [
    "new_df = pd.concat([summed_rows_good,filter_fair])\n",
    "new_df"
   ],
   "metadata": {
    "collapsed": false,
    "pycharm": {
     "name": "#%%\n"
    }
   }
  },
  {
   "cell_type": "code",
   "execution_count": 208,
   "outputs": [
    {
     "data": {
      "text/plain": "     Local Authorities District   Geo Code       General Health Type   \n0                          Adur  E07000223           Not good health  \\\n1                     Allerdale  E07000026           Not good health   \n2                  Amber Valley  E07000032           Not good health   \n3                          Arun  E07000224           Not good health   \n4                      Ashfield  E07000170           Not good health   \n...                         ...        ...                       ...   \n1387                 Caerphilly  W06000018  Very good or good health   \n1388              Blaenau Gwent  W06000019  Very good or good health   \n1389                    Torfaen  W06000020  Very good or good health   \n1390              Monmouthshire  W06000021  Very good or good health   \n1391                    Newport  W06000022  Very good or good health   \n\n      Owned: Owned outright   \n0                      5802  \\\n1                      9240   \n2                     12162   \n3                     15479   \n4                     12215   \n...                     ...   \n1387                  14228   \n1388                   5590   \n1389                   7462   \n1390                  11133   \n1391                  11780   \n\n      Owned: Owned with a mortgage or loan or shared ownership   \n0                                                  2964         \\\n1                                                  3096          \n2                                                  4801          \n3                                                  6311          \n4                                                  5651          \n...                                                 ...          \n1387                                              33771          \n1388                                              10771          \n1389                                              16525          \n1390                                              16688          \n1391                                              26706          \n\n      Rented: Social rented  Rented: Private rented or living rent free  \n0                      2372                                        1141  \n1                      5342                                        1779  \n2                      5139                                        2663  \n3                      4065                                        3954  \n4                      6315                                        2979  \n...                     ...                                         ...  \n1387                  10345                                        8434  \n1388                   5144                                        3735  \n1389                   7168                                        3481  \n1390                   3968                                        4445  \n1391                   9494                                        8867  \n\n[696 rows x 7 columns]",
      "text/html": "<div>\n<style scoped>\n    .dataframe tbody tr th:only-of-type {\n        vertical-align: middle;\n    }\n\n    .dataframe tbody tr th {\n        vertical-align: top;\n    }\n\n    .dataframe thead th {\n        text-align: right;\n    }\n</style>\n<table border=\"1\" class=\"dataframe\">\n  <thead>\n    <tr style=\"text-align: right;\">\n      <th></th>\n      <th>Local Authorities District</th>\n      <th>Geo Code</th>\n      <th>General Health Type</th>\n      <th>Owned: Owned outright</th>\n      <th>Owned: Owned with a mortgage or loan or shared ownership</th>\n      <th>Rented: Social rented</th>\n      <th>Rented: Private rented or living rent free</th>\n    </tr>\n  </thead>\n  <tbody>\n    <tr>\n      <th>0</th>\n      <td>Adur</td>\n      <td>E07000223</td>\n      <td>Not good health</td>\n      <td>5802</td>\n      <td>2964</td>\n      <td>2372</td>\n      <td>1141</td>\n    </tr>\n    <tr>\n      <th>1</th>\n      <td>Allerdale</td>\n      <td>E07000026</td>\n      <td>Not good health</td>\n      <td>9240</td>\n      <td>3096</td>\n      <td>5342</td>\n      <td>1779</td>\n    </tr>\n    <tr>\n      <th>2</th>\n      <td>Amber Valley</td>\n      <td>E07000032</td>\n      <td>Not good health</td>\n      <td>12162</td>\n      <td>4801</td>\n      <td>5139</td>\n      <td>2663</td>\n    </tr>\n    <tr>\n      <th>3</th>\n      <td>Arun</td>\n      <td>E07000224</td>\n      <td>Not good health</td>\n      <td>15479</td>\n      <td>6311</td>\n      <td>4065</td>\n      <td>3954</td>\n    </tr>\n    <tr>\n      <th>4</th>\n      <td>Ashfield</td>\n      <td>E07000170</td>\n      <td>Not good health</td>\n      <td>12215</td>\n      <td>5651</td>\n      <td>6315</td>\n      <td>2979</td>\n    </tr>\n    <tr>\n      <th>...</th>\n      <td>...</td>\n      <td>...</td>\n      <td>...</td>\n      <td>...</td>\n      <td>...</td>\n      <td>...</td>\n      <td>...</td>\n    </tr>\n    <tr>\n      <th>1387</th>\n      <td>Caerphilly</td>\n      <td>W06000018</td>\n      <td>Very good or good health</td>\n      <td>14228</td>\n      <td>33771</td>\n      <td>10345</td>\n      <td>8434</td>\n    </tr>\n    <tr>\n      <th>1388</th>\n      <td>Blaenau Gwent</td>\n      <td>W06000019</td>\n      <td>Very good or good health</td>\n      <td>5590</td>\n      <td>10771</td>\n      <td>5144</td>\n      <td>3735</td>\n    </tr>\n    <tr>\n      <th>1389</th>\n      <td>Torfaen</td>\n      <td>W06000020</td>\n      <td>Very good or good health</td>\n      <td>7462</td>\n      <td>16525</td>\n      <td>7168</td>\n      <td>3481</td>\n    </tr>\n    <tr>\n      <th>1390</th>\n      <td>Monmouthshire</td>\n      <td>W06000021</td>\n      <td>Very good or good health</td>\n      <td>11133</td>\n      <td>16688</td>\n      <td>3968</td>\n      <td>4445</td>\n    </tr>\n    <tr>\n      <th>1391</th>\n      <td>Newport</td>\n      <td>W06000022</td>\n      <td>Very good or good health</td>\n      <td>11780</td>\n      <td>26706</td>\n      <td>9494</td>\n      <td>8867</td>\n    </tr>\n  </tbody>\n</table>\n<p>696 rows × 7 columns</p>\n</div>"
     },
     "execution_count": 208,
     "metadata": {},
     "output_type": "execute_result"
    }
   ],
   "source": [
    "new_df.drop(columns=['Sex'],inplace=True)\n",
    "new_df"
   ],
   "metadata": {
    "collapsed": false,
    "pycharm": {
     "name": "#%%\n"
    }
   }
  },
  {
   "cell_type": "code",
   "execution_count": 209,
   "outputs": [],
   "source": [
    "new_df.to_excel('./2011/Tenure_processed2.xlsx',index=False)"
   ],
   "metadata": {
    "collapsed": false,
    "pycharm": {
     "name": "#%%\n"
    }
   }
  },
  {
   "cell_type": "code",
   "execution_count": 215,
   "outputs": [
    {
     "data": {
      "text/plain": "      Date Local Authorities District      Sex   Geo Code   \n0     2011                       Adur  Females  E07000223  \\\n1     2011                       Adur    Males  E07000223   \n2     2011                  Allerdale  Females  E07000026   \n3     2011                  Allerdale    Males  E07000026   \n4     2011               Amber Valley  Females  E07000032   \n...    ...                        ...      ...        ...   \n2083  2011                 Caerphilly  Females  W06000018   \n2084  2011              Blaenau Gwent  Females  W06000019   \n2085  2011                    Torfaen  Females  W06000020   \n2086  2011              Monmouthshire  Females  W06000021   \n2087  2011                    Newport  Females  W06000022   \n\n           General Health Type   \n0     Very good or good health  \\\n1     Very good or good health   \n2     Very good or good health   \n3     Very good or good health   \n4     Very good or good health   \n...                        ...   \n2083               Fair health   \n2084               Fair health   \n2085               Fair health   \n2086               Fair health   \n2087               Fair health   \n\n      L1, L2 and L3: Higher managerial, administrative and professional occupations   \n0                                                  1224                              \\\n1                                                  2327                               \n2                                                  1633                               \n3                                                  3586                               \n4                                                  2376                               \n...                                                 ...                               \n2083                                                269                               \n2084                                                 76                               \n2085                                                134                               \n2086                                                249                               \n2087                                                245                               \n\n      L4, L5 and L6: Lower managerial, administrative and professional occupations   \n0                                                  4775                             \\\n1                                                  4009                              \n2                                                  6849                              \n3                                                  5256                              \n4                                                  8825                              \n...                                                 ...                              \n2083                                               2008                              \n2084                                                790                              \n2085                                               1139                              \n2086                                               1429                              \n2087                                               1685                              \n\n      L7: Intermediate occupations   \n0                             4688  \\\n1                             1429   \n2                             5058   \n3                             1465   \n4                             7354   \n...                            ...   \n2083                          2378   \n2084                           743   \n2085                          1185   \n2086                          1191   \n2087                          2006   \n\n      L8 and L9: Small employers and own account workers   \n0                                                  1195   \\\n1                                                  3163    \n2                                                  2518    \n3                                                  4360    \n4                                                  2189    \n...                                                 ...    \n2083                                                594    \n2084                                                222    \n2085                                                290    \n2086                                                557    \n2087                                                420    \n\n      L10 and L11: Lower supervisory and technical occupations   \n0                                                   805         \\\n1                                                  2095          \n2                                                  1491          \n3                                                  4281          \n4                                                  1852          \n...                                                 ...          \n2083                                                929          \n2084                                                393          \n2085                                                530          \n2086                                                369          \n2087                                                534          \n\n      L12: Semi-routine occupations  L13: Routine occupations   \n0                              3854                      1433  \\\n1                              1807                      1958   \n2                              6735                      3272   \n3                              3649                      4744   \n4                              7110                      4583   \n...                             ...                       ...   \n2083                           3814                      3315   \n2084                           1623                      1435   \n2085                           2005                      1532   \n2086                           1507                       940   \n2087                           2664                      1833   \n\n      L14.1 and L14.2: Never worked and long-term unemployed   \n0                                                   615       \\\n1                                                   451        \n2                                                  1126        \n3                                                   855        \n4                                                  1290        \n...                                                 ...        \n2083                                               1682        \n2084                                                847        \n2085                                                724        \n2086                                                599        \n2087                                               1327        \n\n      L15: Full-time students  label  \n0                        1175      0  \n1                        1174      1  \n2                        1801      0  \n3                        1602      1  \n4                        2490      0  \n...                       ...    ...  \n2083                      223      2  \n2084                       88      2  \n2085                      116      2  \n2086                       61      2  \n2087                      244      2  \n\n[2088 rows x 15 columns]",
      "text/html": "<div>\n<style scoped>\n    .dataframe tbody tr th:only-of-type {\n        vertical-align: middle;\n    }\n\n    .dataframe tbody tr th {\n        vertical-align: top;\n    }\n\n    .dataframe thead th {\n        text-align: right;\n    }\n</style>\n<table border=\"1\" class=\"dataframe\">\n  <thead>\n    <tr style=\"text-align: right;\">\n      <th></th>\n      <th>Date</th>\n      <th>Local Authorities District</th>\n      <th>Sex</th>\n      <th>Geo Code</th>\n      <th>General Health Type</th>\n      <th>L1, L2 and L3: Higher managerial, administrative and professional occupations</th>\n      <th>L4, L5 and L6: Lower managerial, administrative and professional occupations</th>\n      <th>L7: Intermediate occupations</th>\n      <th>L8 and L9: Small employers and own account workers</th>\n      <th>L10 and L11: Lower supervisory and technical occupations</th>\n      <th>L12: Semi-routine occupations</th>\n      <th>L13: Routine occupations</th>\n      <th>L14.1 and L14.2: Never worked and long-term unemployed</th>\n      <th>L15: Full-time students</th>\n      <th>label</th>\n    </tr>\n  </thead>\n  <tbody>\n    <tr>\n      <th>0</th>\n      <td>2011</td>\n      <td>Adur</td>\n      <td>Females</td>\n      <td>E07000223</td>\n      <td>Very good or good health</td>\n      <td>1224</td>\n      <td>4775</td>\n      <td>4688</td>\n      <td>1195</td>\n      <td>805</td>\n      <td>3854</td>\n      <td>1433</td>\n      <td>615</td>\n      <td>1175</td>\n      <td>0</td>\n    </tr>\n    <tr>\n      <th>1</th>\n      <td>2011</td>\n      <td>Adur</td>\n      <td>Males</td>\n      <td>E07000223</td>\n      <td>Very good or good health</td>\n      <td>2327</td>\n      <td>4009</td>\n      <td>1429</td>\n      <td>3163</td>\n      <td>2095</td>\n      <td>1807</td>\n      <td>1958</td>\n      <td>451</td>\n      <td>1174</td>\n      <td>1</td>\n    </tr>\n    <tr>\n      <th>2</th>\n      <td>2011</td>\n      <td>Allerdale</td>\n      <td>Females</td>\n      <td>E07000026</td>\n      <td>Very good or good health</td>\n      <td>1633</td>\n      <td>6849</td>\n      <td>5058</td>\n      <td>2518</td>\n      <td>1491</td>\n      <td>6735</td>\n      <td>3272</td>\n      <td>1126</td>\n      <td>1801</td>\n      <td>0</td>\n    </tr>\n    <tr>\n      <th>3</th>\n      <td>2011</td>\n      <td>Allerdale</td>\n      <td>Males</td>\n      <td>E07000026</td>\n      <td>Very good or good health</td>\n      <td>3586</td>\n      <td>5256</td>\n      <td>1465</td>\n      <td>4360</td>\n      <td>4281</td>\n      <td>3649</td>\n      <td>4744</td>\n      <td>855</td>\n      <td>1602</td>\n      <td>1</td>\n    </tr>\n    <tr>\n      <th>4</th>\n      <td>2011</td>\n      <td>Amber Valley</td>\n      <td>Females</td>\n      <td>E07000032</td>\n      <td>Very good or good health</td>\n      <td>2376</td>\n      <td>8825</td>\n      <td>7354</td>\n      <td>2189</td>\n      <td>1852</td>\n      <td>7110</td>\n      <td>4583</td>\n      <td>1290</td>\n      <td>2490</td>\n      <td>0</td>\n    </tr>\n    <tr>\n      <th>...</th>\n      <td>...</td>\n      <td>...</td>\n      <td>...</td>\n      <td>...</td>\n      <td>...</td>\n      <td>...</td>\n      <td>...</td>\n      <td>...</td>\n      <td>...</td>\n      <td>...</td>\n      <td>...</td>\n      <td>...</td>\n      <td>...</td>\n      <td>...</td>\n      <td>...</td>\n    </tr>\n    <tr>\n      <th>2083</th>\n      <td>2011</td>\n      <td>Caerphilly</td>\n      <td>Females</td>\n      <td>W06000018</td>\n      <td>Fair health</td>\n      <td>269</td>\n      <td>2008</td>\n      <td>2378</td>\n      <td>594</td>\n      <td>929</td>\n      <td>3814</td>\n      <td>3315</td>\n      <td>1682</td>\n      <td>223</td>\n      <td>2</td>\n    </tr>\n    <tr>\n      <th>2084</th>\n      <td>2011</td>\n      <td>Blaenau Gwent</td>\n      <td>Females</td>\n      <td>W06000019</td>\n      <td>Fair health</td>\n      <td>76</td>\n      <td>790</td>\n      <td>743</td>\n      <td>222</td>\n      <td>393</td>\n      <td>1623</td>\n      <td>1435</td>\n      <td>847</td>\n      <td>88</td>\n      <td>2</td>\n    </tr>\n    <tr>\n      <th>2085</th>\n      <td>2011</td>\n      <td>Torfaen</td>\n      <td>Females</td>\n      <td>W06000020</td>\n      <td>Fair health</td>\n      <td>134</td>\n      <td>1139</td>\n      <td>1185</td>\n      <td>290</td>\n      <td>530</td>\n      <td>2005</td>\n      <td>1532</td>\n      <td>724</td>\n      <td>116</td>\n      <td>2</td>\n    </tr>\n    <tr>\n      <th>2086</th>\n      <td>2011</td>\n      <td>Monmouthshire</td>\n      <td>Females</td>\n      <td>W06000021</td>\n      <td>Fair health</td>\n      <td>249</td>\n      <td>1429</td>\n      <td>1191</td>\n      <td>557</td>\n      <td>369</td>\n      <td>1507</td>\n      <td>940</td>\n      <td>599</td>\n      <td>61</td>\n      <td>2</td>\n    </tr>\n    <tr>\n      <th>2087</th>\n      <td>2011</td>\n      <td>Newport</td>\n      <td>Females</td>\n      <td>W06000022</td>\n      <td>Fair health</td>\n      <td>245</td>\n      <td>1685</td>\n      <td>2006</td>\n      <td>420</td>\n      <td>534</td>\n      <td>2664</td>\n      <td>1833</td>\n      <td>1327</td>\n      <td>244</td>\n      <td>2</td>\n    </tr>\n  </tbody>\n</table>\n<p>2088 rows × 15 columns</p>\n</div>"
     },
     "execution_count": 215,
     "metadata": {},
     "output_type": "execute_result"
    }
   ],
   "source": [
    "nssec=pd.read_excel('./2011/General_processed_2011.xlsx')\n",
    "nssec['label']=0\n",
    "for index, row in nssec.iterrows():\n",
    "    if row['General Health Type']=='Very good or good health' and row['Sex']=='Females':\n",
    "        nssec.at[index,'label']=0\n",
    "    elif row['General Health Type']=='Very good or good health' and row['Sex']=='Males':\n",
    "        nssec.at[index,'label']=1\n",
    "    elif row['General Health Type']=='Fair health' and row['Sex']=='Females':\n",
    "        nssec.at[index,'label']=2\n",
    "    elif row['General Health Type']=='Fair health' and row['Sex']=='Males':\n",
    "        nssec.at[index,'label']=3\n",
    "    elif row['General Health Type']=='Bad or very bad health' and row['Sex']=='Females':\n",
    "        nssec.at[index,'label']=4\n",
    "    elif row['General Health Type']=='Bad or very bad health' and row['Sex']=='Males':\n",
    "        nssec.at[index,'label']=5\n",
    "nssec"
   ],
   "metadata": {
    "collapsed": false,
    "pycharm": {
     "name": "#%%\n"
    }
   }
  },
  {
   "cell_type": "code",
   "execution_count": 216,
   "outputs": [],
   "source": [
    "nssec.to_excel('./2011/General_processed_2011.xlsx',index=False)"
   ],
   "metadata": {
    "collapsed": false,
    "pycharm": {
     "name": "#%%\n"
    }
   }
  },
  {
   "cell_type": "code",
   "execution_count": 7,
   "outputs": [
    {
     "data": {
      "text/plain": "      Date Local Authorities District   Geo Code  Owned: Owned outright   \n0     2011                 Darlington  E06000005                   8696  \\\n1     2011              County Durham  E06000047                  42450   \n2     2011                 Hartlepool  E06000001                   6574   \n3     2011              Middlesbrough  E06000002                   9957   \n4     2011             Northumberland  E06000057                  29463   \n...    ...                        ...        ...                    ...   \n2083  2011                 Caerphilly  W06000018                   3375   \n2084  2011              Blaenau Gwent  W06000019                   1443   \n2085  2011                    Torfaen  W06000020                   1401   \n2086  2011              Monmouthshire  W06000021                   1186   \n2087  2011                    Newport  W06000022                   1916   \n\n      Owned: Owned with a mortgage or loan or shared ownership   \n0                                                 20310         \\\n1                                                 94692          \n2                                                 16687          \n3                                                 23175          \n4                                                 56224          \n...                                                 ...          \n2083                                               1547          \n2084                                                549          \n2085                                                691          \n2086                                                503          \n2087                                               1044          \n\n      Rented: Social rented  Rented: Private rented or living rent free   \n0                      4123                                        8164  \\\n1                     23071                                       28120   \n2                      5623                                        5469   \n3                      8941                                       10808   \n4                     16503                                       17950   \n...                     ...                                         ...   \n2083                   2814                                         679   \n2084                   1324                                         375   \n2085                   1549                                         268   \n2086                    766                                         263   \n2087                   2035                                         530   \n\n          Sex       General Health Type  label  \n0       Males  Very good or good health      1  \n1       Males  Very good or good health      1  \n2       Males  Very good or good health      1  \n3       Males  Very good or good health      1  \n4       Males  Very good or good health      1  \n...       ...                       ...    ...  \n2083  Females    Bad or very bad health      4  \n2084  Females    Bad or very bad health      4  \n2085  Females    Bad or very bad health      4  \n2086  Females    Bad or very bad health      4  \n2087  Females    Bad or very bad health      4  \n\n[2088 rows x 10 columns]",
      "text/html": "<div>\n<style scoped>\n    .dataframe tbody tr th:only-of-type {\n        vertical-align: middle;\n    }\n\n    .dataframe tbody tr th {\n        vertical-align: top;\n    }\n\n    .dataframe thead th {\n        text-align: right;\n    }\n</style>\n<table border=\"1\" class=\"dataframe\">\n  <thead>\n    <tr style=\"text-align: right;\">\n      <th></th>\n      <th>Date</th>\n      <th>Local Authorities District</th>\n      <th>Geo Code</th>\n      <th>Owned: Owned outright</th>\n      <th>Owned: Owned with a mortgage or loan or shared ownership</th>\n      <th>Rented: Social rented</th>\n      <th>Rented: Private rented or living rent free</th>\n      <th>Sex</th>\n      <th>General Health Type</th>\n      <th>label</th>\n    </tr>\n  </thead>\n  <tbody>\n    <tr>\n      <th>0</th>\n      <td>2011</td>\n      <td>Darlington</td>\n      <td>E06000005</td>\n      <td>8696</td>\n      <td>20310</td>\n      <td>4123</td>\n      <td>8164</td>\n      <td>Males</td>\n      <td>Very good or good health</td>\n      <td>1</td>\n    </tr>\n    <tr>\n      <th>1</th>\n      <td>2011</td>\n      <td>County Durham</td>\n      <td>E06000047</td>\n      <td>42450</td>\n      <td>94692</td>\n      <td>23071</td>\n      <td>28120</td>\n      <td>Males</td>\n      <td>Very good or good health</td>\n      <td>1</td>\n    </tr>\n    <tr>\n      <th>2</th>\n      <td>2011</td>\n      <td>Hartlepool</td>\n      <td>E06000001</td>\n      <td>6574</td>\n      <td>16687</td>\n      <td>5623</td>\n      <td>5469</td>\n      <td>Males</td>\n      <td>Very good or good health</td>\n      <td>1</td>\n    </tr>\n    <tr>\n      <th>3</th>\n      <td>2011</td>\n      <td>Middlesbrough</td>\n      <td>E06000002</td>\n      <td>9957</td>\n      <td>23175</td>\n      <td>8941</td>\n      <td>10808</td>\n      <td>Males</td>\n      <td>Very good or good health</td>\n      <td>1</td>\n    </tr>\n    <tr>\n      <th>4</th>\n      <td>2011</td>\n      <td>Northumberland</td>\n      <td>E06000057</td>\n      <td>29463</td>\n      <td>56224</td>\n      <td>16503</td>\n      <td>17950</td>\n      <td>Males</td>\n      <td>Very good or good health</td>\n      <td>1</td>\n    </tr>\n    <tr>\n      <th>...</th>\n      <td>...</td>\n      <td>...</td>\n      <td>...</td>\n      <td>...</td>\n      <td>...</td>\n      <td>...</td>\n      <td>...</td>\n      <td>...</td>\n      <td>...</td>\n      <td>...</td>\n    </tr>\n    <tr>\n      <th>2083</th>\n      <td>2011</td>\n      <td>Caerphilly</td>\n      <td>W06000018</td>\n      <td>3375</td>\n      <td>1547</td>\n      <td>2814</td>\n      <td>679</td>\n      <td>Females</td>\n      <td>Bad or very bad health</td>\n      <td>4</td>\n    </tr>\n    <tr>\n      <th>2084</th>\n      <td>2011</td>\n      <td>Blaenau Gwent</td>\n      <td>W06000019</td>\n      <td>1443</td>\n      <td>549</td>\n      <td>1324</td>\n      <td>375</td>\n      <td>Females</td>\n      <td>Bad or very bad health</td>\n      <td>4</td>\n    </tr>\n    <tr>\n      <th>2085</th>\n      <td>2011</td>\n      <td>Torfaen</td>\n      <td>W06000020</td>\n      <td>1401</td>\n      <td>691</td>\n      <td>1549</td>\n      <td>268</td>\n      <td>Females</td>\n      <td>Bad or very bad health</td>\n      <td>4</td>\n    </tr>\n    <tr>\n      <th>2086</th>\n      <td>2011</td>\n      <td>Monmouthshire</td>\n      <td>W06000021</td>\n      <td>1186</td>\n      <td>503</td>\n      <td>766</td>\n      <td>263</td>\n      <td>Females</td>\n      <td>Bad or very bad health</td>\n      <td>4</td>\n    </tr>\n    <tr>\n      <th>2087</th>\n      <td>2011</td>\n      <td>Newport</td>\n      <td>W06000022</td>\n      <td>1916</td>\n      <td>1044</td>\n      <td>2035</td>\n      <td>530</td>\n      <td>Females</td>\n      <td>Bad or very bad health</td>\n      <td>4</td>\n    </tr>\n  </tbody>\n</table>\n<p>2088 rows × 10 columns</p>\n</div>"
     },
     "execution_count": 7,
     "metadata": {},
     "output_type": "execute_result"
    }
   ],
   "source": [
    "tenure=pd.read_excel('./2011/Projection/Tenure_processed_2011.xlsx')\n",
    "tenure['label']=0\n",
    "for index, row in tenure.iterrows():\n",
    "    if row['General Health Type']=='Very good or good health' and row['Sex']=='Females':\n",
    "        tenure.at[index,'label']=0\n",
    "    elif row['General Health Type']=='Very good or good health' and row['Sex']=='Males':\n",
    "        tenure.at[index,'label']=1\n",
    "    elif row['General Health Type']=='Fair health' and row['Sex']=='Females':\n",
    "        tenure.at[index,'label']=2\n",
    "    elif row['General Health Type']=='Fair health' and row['Sex']=='Males':\n",
    "        tenure.at[index,'label']=3\n",
    "    elif row['General Health Type']=='Bad or very bad health' and row['Sex']=='Females':\n",
    "        tenure.at[index,'label']=4\n",
    "    elif row['General Health Type']=='Bad or very bad health' and row['Sex']=='Males':\n",
    "        tenure.at[index,'label']=5\n",
    "tenure"
   ],
   "metadata": {
    "collapsed": false,
    "pycharm": {
     "name": "#%%\n"
    }
   }
  },
  {
   "cell_type": "code",
   "execution_count": 8,
   "outputs": [],
   "source": [
    "tenure.to_excel('./2011/Projection/Tenure_processed_2011.xlsx',index=False)"
   ],
   "metadata": {
    "collapsed": false,
    "pycharm": {
     "name": "#%%\n"
    }
   }
  },
  {
   "cell_type": "code",
   "execution_count": null,
   "outputs": [],
   "source": [],
   "metadata": {
    "collapsed": false,
    "pycharm": {
     "name": "#%%\n"
    }
   }
  }
 ],
 "metadata": {
  "kernelspec": {
   "display_name": "Python 3",
   "language": "python",
   "name": "python3"
  },
  "language_info": {
   "codemirror_mode": {
    "name": "ipython",
    "version": 2
   },
   "file_extension": ".py",
   "mimetype": "text/x-python",
   "name": "python",
   "nbconvert_exporter": "python",
   "pygments_lexer": "ipython2",
   "version": "2.7.6"
  }
 },
 "nbformat": 4,
 "nbformat_minor": 0
}