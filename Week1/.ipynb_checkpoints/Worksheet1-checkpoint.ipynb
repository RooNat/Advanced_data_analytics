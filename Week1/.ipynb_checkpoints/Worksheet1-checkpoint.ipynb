{
 "cells": [
  {
   "cell_type": "markdown",
   "metadata": {},
   "source": [
    "# Week 1 worksheet\n",
    "\n",
    "In this worksheet we will explore some of the basic concepts of statistical pattern analysis and linear data projection."
   ]
  },
  {
   "cell_type": "markdown",
   "metadata": {},
   "source": [
    "## Gaussian distribution\n"
   ]
  },
  {
   "cell_type": "code",
   "execution_count": 68,
   "metadata": {},
   "outputs": [],
   "source": [
    "import matplotlib.pyplot as plt\n",
    "import numpy as np"
   ]
  },
  {
   "cell_type": "markdown",
   "metadata": {},
   "source": [
    "We start by generating 3000 data values from a one-dimensional Gaussian with mean 2 and variance 5. Note how the seed of the random number generator has been fixed to enable us to reproduce results reliably. This is crucial for debugging and auditing applications of data science."
   ]
  },
  {
   "cell_type": "code",
   "execution_count": 69,
   "metadata": {},
   "outputs": [],
   "source": [
    "from numpy.random import Generator, PCG64\n",
    "mean = 2\n",
    "sigma = np.sqrt(5)\n",
    "rng = Generator(PCG64(12345))\n",
    "vals = mean + sigma*rng.standard_normal(3000)"
   ]
  },
  {
   "cell_type": "markdown",
   "metadata": {},
   "source": [
    "Plot a histogram of this data with 30 bins"
   ]
  },
  {
   "cell_type": "code",
   "execution_count": 70,
   "metadata": {},
   "outputs": [
    {
     "data": {
      "text/plain": [
       "Text(0.5, 0, 'Data')"
      ]
     },
     "execution_count": 70,
     "metadata": {},
     "output_type": "execute_result"
    },
    {
     "data": {
      "image/png": "[encoded data removed]",
      "text/plain": [
       "<Figure size 432x288 with 1 Axes>"
      ]
     },
     "metadata": {
      "needs_background": "light"
     },
     "output_type": "display_data"
    }
   ],
   "source": [
    "#TODO\n",
    "plt.hist(vals,density=True,bins=30)\n",
    "plt.ylabel('Probability')\n",
    "plt.xlabel('Data')"
   ]
  },
  {
   "cell_type": "markdown",
   "metadata": {},
   "source": [
    "Now compute the maximum likelihood estimates of the mean and standard deviation of the data. Print the values and make a note of them."
   ]
  },
  {
   "cell_type": "code",
   "execution_count": 71,
   "metadata": {},
   "outputs": [
    {
     "name": "stdout",
     "output_type": "stream",
     "text": [
      "2.0381501662458694\n",
      "2.2555221029436683\n"
     ]
    }
   ],
   "source": [
    "#TODO\n",
    "n=3000\n",
    "mu_mle=np.mean(vals)\n",
    "sigma_mle=np.sqrt(((n-1)*np.var(vals))/n)\n",
    "print(mu_mle)\n",
    "print(sigma_mle)"
   ]
  },
  {
   "cell_type": "markdown",
   "metadata": {},
   "source": [
    "That is one result for maximum likelihood estimation based on a single sample from the distribution. Now we will do this 100 times with a smaller sample (of size 10) and compare the average estimate of the mean (over the 100 iterations) with its true value and the average estimate of the variance (over the 100 iterations) with its true value. (Continue with the random number generator in its current state (i.e. do not reset it)). Print out these values and make a note of them for the quiz later."
   ]
  },
  {
   "cell_type": "code",
   "execution_count": 72,
   "metadata": {},
   "outputs": [
    {
     "name": "stdout",
     "output_type": "stream",
     "text": [
      "1.9335027828547504\n",
      "4.095262761527019\n"
     ]
    }
   ],
   "source": [
    "#TODO\n",
    "num_trials=100\n",
    "sample_size=10\n",
    "estimate_mean=[]\n",
    "estimate_variance=[]\n",
    "for i in range(num_trials):\n",
    "    vals = mean + sigma*rng.standard_normal(sample_size)\n",
    "    mu_mle=np.mean(vals)\n",
    "    variance_mle=((sample_size-1)*np.var(vals))/sample_size\n",
    "    estimate_mean.append(mu_mle)\n",
    "    estimate_variance.append(variance_mle)\n",
    "\n",
    "mean_estimate_mean=np.mean(estimate_mean)\n",
    "mean_estimate_variance=np.mean(estimate_variance)\n",
    "print(mean_estimate_mean)\n",
    "print(mean_estimate_variance)"
   ]
  },
  {
   "cell_type": "markdown",
   "metadata": {},
   "source": [
    "## Principal Component Analysis (PCA) for data projection\n",
    "\n",
    "In this section we will explore the theory and practice of PCA for data projection.\n",
    "\n",
    "We start by reading in the oil flow dataset mentioned in the lectures. The ID field is simply the index of the row in the dataset (starting from 1). The variables have the imaginative names v1, v2, etc. While the final column is the class label, which will be treated separately."
   ]
  },
  {
   "cell_type": "code",
   "execution_count": 73,
   "metadata": {},
   "outputs": [
    {
     "data": {
      "text/html": [
       "<div>\n",
       "<style scoped>\n",
       "    .dataframe tbody tr th:only-of-type {\n",
       "        vertical-align: middle;\n",
       "    }\n",
       "\n",
       "    .dataframe tbody tr th {\n",
       "        vertical-align: top;\n",
       "    }\n",
       "\n",
       "    .dataframe thead th {\n",
       "        text-align: right;\n",
       "    }\n",
       "</style>\n",
       "<table border=\"1\" class=\"dataframe\">\n",
       "  <thead>\n",
       "    <tr style=\"text-align: right;\">\n",
       "      <th></th>\n",
       "      <th>v1</th>\n",
       "      <th>v2</th>\n",
       "      <th>v3</th>\n",
       "      <th>v4</th>\n",
       "      <th>v5</th>\n",
       "      <th>v6</th>\n",
       "      <th>v7</th>\n",
       "      <th>v8</th>\n",
       "      <th>v9</th>\n",
       "      <th>v10</th>\n",
       "      <th>v11</th>\n",
       "      <th>v12</th>\n",
       "      <th>Label</th>\n",
       "    </tr>\n",
       "    <tr>\n",
       "      <th>ID</th>\n",
       "      <th></th>\n",
       "      <th></th>\n",
       "      <th></th>\n",
       "      <th></th>\n",
       "      <th></th>\n",
       "      <th></th>\n",
       "      <th></th>\n",
       "      <th></th>\n",
       "      <th></th>\n",
       "      <th></th>\n",
       "      <th></th>\n",
       "      <th></th>\n",
       "      <th></th>\n",
       "    </tr>\n",
       "  </thead>\n",
       "  <tbody>\n",
       "    <tr>\n",
       "      <th>1</th>\n",
       "      <td>0.3315</td>\n",
       "      <td>0.2156</td>\n",
       "      <td>0.6802</td>\n",
       "      <td>0.1434</td>\n",
       "      <td>0.6825</td>\n",
       "      <td>0.2720</td>\n",
       "      <td>0.6223</td>\n",
       "      <td>0.2092</td>\n",
       "      <td>0.7961</td>\n",
       "      <td>0.1530</td>\n",
       "      <td>0.5856</td>\n",
       "      <td>0.2573</td>\n",
       "      <td>1</td>\n",
       "    </tr>\n",
       "    <tr>\n",
       "      <th>2</th>\n",
       "      <td>0.5184</td>\n",
       "      <td>0.2283</td>\n",
       "      <td>0.5300</td>\n",
       "      <td>0.6884</td>\n",
       "      <td>0.7456</td>\n",
       "      <td>0.6171</td>\n",
       "      <td>0.6136</td>\n",
       "      <td>0.5928</td>\n",
       "      <td>0.7678</td>\n",
       "      <td>0.6130</td>\n",
       "      <td>0.6705</td>\n",
       "      <td>0.5202</td>\n",
       "      <td>1</td>\n",
       "    </tr>\n",
       "    <tr>\n",
       "      <th>3</th>\n",
       "      <td>0.0760</td>\n",
       "      <td>0.5010</td>\n",
       "      <td>0.1870</td>\n",
       "      <td>0.7011</td>\n",
       "      <td>0.1728</td>\n",
       "      <td>0.8475</td>\n",
       "      <td>0.2300</td>\n",
       "      <td>0.6536</td>\n",
       "      <td>0.1616</td>\n",
       "      <td>0.8732</td>\n",
       "      <td>0.1603</td>\n",
       "      <td>0.7331</td>\n",
       "      <td>1</td>\n",
       "    </tr>\n",
       "    <tr>\n",
       "      <th>4</th>\n",
       "      <td>0.3334</td>\n",
       "      <td>0.5468</td>\n",
       "      <td>0.6072</td>\n",
       "      <td>0.7549</td>\n",
       "      <td>0.6294</td>\n",
       "      <td>0.9322</td>\n",
       "      <td>0.5850</td>\n",
       "      <td>0.7859</td>\n",
       "      <td>0.6324</td>\n",
       "      <td>0.9568</td>\n",
       "      <td>0.6026</td>\n",
       "      <td>0.7616</td>\n",
       "      <td>1</td>\n",
       "    </tr>\n",
       "    <tr>\n",
       "      <th>5</th>\n",
       "      <td>0.1703</td>\n",
       "      <td>0.2234</td>\n",
       "      <td>0.2677</td>\n",
       "      <td>0.3477</td>\n",
       "      <td>0.2734</td>\n",
       "      <td>0.4324</td>\n",
       "      <td>0.1222</td>\n",
       "      <td>0.5213</td>\n",
       "      <td>0.2333</td>\n",
       "      <td>0.4926</td>\n",
       "      <td>0.2044</td>\n",
       "      <td>0.4215</td>\n",
       "      <td>1</td>\n",
       "    </tr>\n",
       "  </tbody>\n",
       "</table>\n",
       "</div>"
      ],
      "text/plain": [
       "        v1      v2      v3      v4      v5      v6      v7      v8      v9  \\\n",
       "ID                                                                           \n",
       "1   0.3315  0.2156  0.6802  0.1434  0.6825  0.2720  0.6223  0.2092  0.7961   \n",
       "2   0.5184  0.2283  0.5300  0.6884  0.7456  0.6171  0.6136  0.5928  0.7678   \n",
       "3   0.0760  0.5010  0.1870  0.7011  0.1728  0.8475  0.2300  0.6536  0.1616   \n",
       "4   0.3334  0.5468  0.6072  0.7549  0.6294  0.9322  0.5850  0.7859  0.6324   \n",
       "5   0.1703  0.2234  0.2677  0.3477  0.2734  0.4324  0.1222  0.5213  0.2333   \n",
       "\n",
       "       v10     v11     v12  Label  \n",
       "ID                                 \n",
       "1   0.1530  0.5856  0.2573      1  \n",
       "2   0.6130  0.6705  0.5202      1  \n",
       "3   0.8732  0.1603  0.7331      1  \n",
       "4   0.9568  0.6026  0.7616      1  \n",
       "5   0.4926  0.2044  0.4215      1  "
      ]
     },
     "execution_count": 73,
     "metadata": {},
     "output_type": "execute_result"
    }
   ],
   "source": [
    "import pandas \n",
    "\n",
    "df = pandas.read_csv('oil.csv', index_col='ID')\n",
    "df.head()"
   ]
  },
  {
   "cell_type": "markdown",
   "metadata": {},
   "source": [
    "Next, compute the covariance matrix of the data (just v1 to v12) and then carry out an eigendecomposition: check the `numpy` definitions of the appropriate functions. Store the eigenvalues in a variable `eval` and the eigenvectors in a variable `evec`. Start by using the `eig` function. \n",
    "\n",
    "Note that in the `eig` function each row of the matrix parameter represents a variable, and each column a single observation of all those variables. This is the opposite to the convention in Matlab and in Chris Bishop's book. Either apply a transpose operator or set the `rowvar` parameter to `false`."
   ]
  },
  {
   "cell_type": "code",
   "execution_count": 92,
   "metadata": {},
   "outputs": [
    {
     "name": "stdout",
     "output_type": "stream",
     "text": [
      "[[ 0.14019949 -0.08589324  0.06776892 -0.01133282  0.04313138 -0.03768868\n",
      "   0.04104223 -0.03214379  0.08816667 -0.11334043  0.08501401  0.03370391]\n",
      " [-0.08589324  0.09257087 -0.04798201  0.04894398 -0.03590649  0.05970288\n",
      "  -0.02594611  0.04480408 -0.0634673   0.12756533 -0.06325459  0.03289725]\n",
      " [ 0.06776892 -0.04798201  0.10306317 -0.05352731  0.09891247 -0.04398334\n",
      "   0.13505423 -0.09043589  0.11247413 -0.0471665   0.06662363 -0.01244803]\n",
      " [-0.01133282  0.04894398 -0.05352731  0.13002864 -0.05646418  0.10731123\n",
      "  -0.08098284  0.1339611  -0.05154947  0.10297211 -0.02212649  0.12476803]\n",
      " [ 0.04313138 -0.03590649  0.09891247 -0.05646418  0.112728   -0.04726421\n",
      "   0.15299397 -0.10020064  0.11351963 -0.02529122  0.04957556 -0.02268723]\n",
      " [-0.03768868  0.05970288 -0.04398334  0.10731123 -0.04726421  0.12194038\n",
      "  -0.06677846  0.11364056 -0.04278751  0.12544301 -0.0240269   0.10378617]\n",
      " [ 0.04104223 -0.02594611  0.13505423 -0.08098284  0.15299397 -0.06677846\n",
      "   0.38821594 -0.25512859  0.07590191  0.10191928 -0.01898977 -0.04403383]\n",
      " [-0.03214379  0.04480408 -0.09043589  0.1339611  -0.10020064  0.11364056\n",
      "  -0.25512859  0.29233824 -0.06922226  0.04285662 -0.00610753  0.07458659]\n",
      " [ 0.08816667 -0.0634673   0.11247413 -0.05154947  0.11351963 -0.04278751\n",
      "   0.07590191 -0.06922226  0.26922532 -0.21349989  0.09859576  0.03806708]\n",
      " [-0.11334043  0.12756533 -0.0471665   0.10297211 -0.02529122  0.12544301\n",
      "   0.10191928  0.04285662 -0.21349989  0.51559044 -0.12545016  0.00481503]\n",
      " [ 0.08501401 -0.06325459  0.06662363 -0.02212649  0.04957556 -0.0240269\n",
      "  -0.01898977 -0.00610753  0.09859576 -0.12545016  0.14113117 -0.00346211]\n",
      " [ 0.03370391  0.03289725 -0.01244803  0.12476803 -0.02268723  0.10378617\n",
      "  -0.04403383  0.07458659  0.03806708  0.00481503 -0.00346211  0.28713529]]\n",
      "[1.00397935 0.70361087 0.40052509 0.18069873 0.13371042 0.06415758\n",
      " 0.00178382 0.00485289 0.01219935 0.01833937 0.03510271 0.03520677]\n",
      "[[-2.06607135e-01  1.27697615e-01 -2.10324718e-01 -2.61740149e-01\n",
      "  -5.72180621e-01  2.36817713e-01 -1.89254872e-01  2.43607856e-01\n",
      "   2.92539732e-01 -3.67660976e-01  3.57955223e-01 -2.72195273e-02]\n",
      " [ 2.07689389e-01 -1.08741760e-01 -3.71463778e-02  1.80269268e-01\n",
      "   3.74941793e-01 -2.17539493e-01 -1.05194871e-01  1.14556943e-01\n",
      "   3.38595617e-01 -7.45272096e-01 -1.66556444e-01 -3.53682669e-02]\n",
      " [-2.57349159e-01 -8.43275663e-02 -1.85169676e-01 -2.49935205e-01\n",
      "   4.28035508e-02 -3.90607265e-02  7.41654986e-01 -5.24393633e-02\n",
      "   4.37202122e-01  4.00263131e-02 -1.87876938e-01  2.13774231e-01]\n",
      " [ 2.66737118e-01  7.19120828e-02 -3.14882057e-01 -5.31181499e-02\n",
      "  -8.54167504e-02  1.68279126e-01  4.62845097e-01  1.49763148e-01\n",
      "  -5.36487884e-01 -2.74259104e-01 -7.61956818e-02 -4.24966065e-01]\n",
      " [-2.52823979e-01 -1.38996860e-01 -1.68638889e-01 -2.04864664e-01\n",
      "   2.16907576e-01 -3.77913888e-03 -1.77739655e-01  7.15722443e-01\n",
      "  -2.76025081e-01  6.98002277e-02 -2.54624894e-01  3.30971859e-01]\n",
      " [ 2.58693142e-01  1.58276248e-02 -2.86767653e-01 -7.14848099e-02\n",
      "   1.43995783e-01 -1.03469291e-01 -1.16533132e-01  3.16134996e-01\n",
      "   4.37629694e-01  4.56196193e-01  1.39823350e-02 -5.48351504e-01]\n",
      " [-3.41647526e-01 -5.69982303e-01 -2.45262760e-01  9.20874781e-02\n",
      "  -5.27428150e-02  3.61231013e-01 -2.31462649e-01 -2.96288183e-01\n",
      "   1.33332655e-02 -2.07126282e-02 -3.68199632e-01 -2.80987838e-01]\n",
      " [ 3.83445290e-01  3.42083623e-01 -7.74710313e-02 -4.27111637e-01\n",
      "   1.78469739e-01  5.11786280e-01 -1.95335147e-01 -2.20117222e-01\n",
      "   9.82053657e-02 -6.36315195e-04 -3.29412190e-01  2.21317077e-01]\n",
      " [-3.70754079e-01  1.87889135e-01 -3.39496818e-01 -8.87196461e-02\n",
      "   6.01354739e-01  8.97741174e-02 -4.74213088e-02 -2.16053175e-01\n",
      "  -1.12412479e-01 -4.83344381e-02  5.15294451e-01 -7.06682224e-02]\n",
      " [ 4.36314903e-01 -6.30333825e-01 -1.58432191e-01 -3.82136434e-01\n",
      "  -1.14178618e-02 -1.54868443e-01 -2.68921226e-02 -1.29901614e-01\n",
      "  -8.83597887e-02  1.82423792e-02  3.71135850e-01  2.31484963e-01]\n",
      " [-1.85585663e-01  1.93803397e-01 -1.09523310e-01 -4.82715804e-01\n",
      "  -1.35511416e-01 -6.33496177e-01 -2.03187590e-01 -2.71188072e-01\n",
      "  -1.50747852e-01 -8.24347382e-02 -2.89652704e-01 -1.87243944e-01]\n",
      " [ 1.41189875e-01  1.67127427e-01 -7.01256439e-01  4.56955032e-01\n",
      "  -2.00902106e-01 -1.73942763e-01 -8.76335214e-02 -1.29685884e-01\n",
      "  -1.03909034e-02  9.84571106e-02 -8.21090913e-02  3.74039927e-01]]\n"
     ]
    }
   ],
   "source": [
    "#TODO\n",
    "data=df.loc[:,'v1':'v12']\n",
    "data_T=data.T\n",
    "covariance=np.cov(data_T)\n",
    "eval,evec=np.linalg.eig(covariance)\n",
    "print(covariance)\n",
    "print(eval)\n",
    "print(evec)"
   ]
  },
  {
   "cell_type": "markdown",
   "metadata": {},
   "source": [
    "Now we list and plot the eigenvalues. "
   ]
  },
  {
   "cell_type": "code",
   "execution_count": 93,
   "metadata": {},
   "outputs": [
    {
     "name": "stdout",
     "output_type": "stream",
     "text": [
      "[1.00397935 0.70361087 0.40052509 0.18069873 0.13371042 0.06415758\n",
      " 0.00178382 0.00485289 0.01219935 0.01833937 0.03510271 0.03520677]\n"
     ]
    },
    {
     "data": {
      "text/plain": [
       "[<matplotlib.lines.Line2D at 0x14dfab850>]"
      ]
     },
     "execution_count": 93,
     "metadata": {},
     "output_type": "execute_result"
    },
    {
     "data": {
      "image/png": "[encoded data removed]",
      "text/plain": [
       "<Figure size 432x288 with 1 Axes>"
      ]
     },
     "metadata": {
      "needs_background": "light"
     },
     "output_type": "display_data"
    }
   ],
   "source": [
    "#Uncomment code when previous section is completed\n",
    "print (eval)\n",
    "plt.figure()\n",
    "plt.subplot(211)\n",
    "plt.plot( eval, 'ok')"
   ]
  },
  {
   "cell_type": "markdown",
   "metadata": {},
   "source": [
    "\n",
    "We can see the effect of different algorithms for calculating the eigenvalues and eigenvectors. The `eigh` function is specialised for working with symmetric matrices: it is faster and more accurate than `eig` in this case. Use it to compute eigenvalues and eigenvectors for this task (again with the same variable names). "
   ]
  },
  {
   "cell_type": "code",
   "execution_count": 96,
   "metadata": {},
   "outputs": [
    {
     "data": {
      "image/png": "[encoded data removed]",
      "text/plain": [
       "<Figure size 432x288 with 1 Axes>"
      ]
     },
     "metadata": {
      "needs_background": "light"
     },
     "output_type": "display_data"
    },
    {
     "data": {
      "text/plain": [
       "array([[-1.89254872e-01, -2.43607856e-01, -2.92539732e-01,\n",
       "        -3.67660976e-01,  3.57955223e-01, -2.72195273e-02,\n",
       "        -2.36817713e-01,  5.72180621e-01, -2.61740149e-01,\n",
       "         2.10324718e-01,  1.27697615e-01, -2.06607135e-01],\n",
       "       [-1.05194871e-01, -1.14556943e-01, -3.38595617e-01,\n",
       "        -7.45272096e-01, -1.66556444e-01, -3.53682669e-02,\n",
       "         2.17539493e-01, -3.74941793e-01,  1.80269268e-01,\n",
       "         3.71463778e-02, -1.08741760e-01,  2.07689389e-01],\n",
       "       [ 7.41654986e-01,  5.24393633e-02, -4.37202122e-01,\n",
       "         4.00263131e-02, -1.87876938e-01,  2.13774231e-01,\n",
       "         3.90607265e-02, -4.28035508e-02, -2.49935205e-01,\n",
       "         1.85169676e-01, -8.43275663e-02, -2.57349159e-01],\n",
       "       [ 4.62845097e-01, -1.49763148e-01,  5.36487884e-01,\n",
       "        -2.74259104e-01, -7.61956818e-02, -4.24966065e-01,\n",
       "        -1.68279126e-01,  8.54167504e-02, -5.31181499e-02,\n",
       "         3.14882057e-01,  7.19120828e-02,  2.66737118e-01],\n",
       "       [-1.77739655e-01, -7.15722443e-01,  2.76025081e-01,\n",
       "         6.98002277e-02, -2.54624894e-01,  3.30971859e-01,\n",
       "         3.77913888e-03, -2.16907576e-01, -2.04864664e-01,\n",
       "         1.68638889e-01, -1.38996860e-01, -2.52823979e-01],\n",
       "       [-1.16533132e-01, -3.16134996e-01, -4.37629694e-01,\n",
       "         4.56196193e-01,  1.39823350e-02, -5.48351504e-01,\n",
       "         1.03469291e-01, -1.43995783e-01, -7.14848099e-02,\n",
       "         2.86767653e-01,  1.58276248e-02,  2.58693142e-01],\n",
       "       [-2.31462649e-01,  2.96288183e-01, -1.33332655e-02,\n",
       "        -2.07126282e-02, -3.68199632e-01, -2.80987838e-01,\n",
       "        -3.61231013e-01,  5.27428150e-02,  9.20874781e-02,\n",
       "         2.45262760e-01, -5.69982303e-01, -3.41647526e-01],\n",
       "       [-1.95335147e-01,  2.20117222e-01, -9.82053657e-02,\n",
       "        -6.36315195e-04, -3.29412190e-01,  2.21317077e-01,\n",
       "        -5.11786280e-01, -1.78469739e-01, -4.27111637e-01,\n",
       "         7.74710313e-02,  3.42083623e-01,  3.83445290e-01],\n",
       "       [-4.74213088e-02,  2.16053175e-01,  1.12412479e-01,\n",
       "        -4.83344381e-02,  5.15294451e-01, -7.06682224e-02,\n",
       "        -8.97741174e-02, -6.01354739e-01, -8.87196461e-02,\n",
       "         3.39496818e-01,  1.87889135e-01, -3.70754079e-01],\n",
       "       [-2.68921226e-02,  1.29901614e-01,  8.83597887e-02,\n",
       "         1.82423792e-02,  3.71135850e-01,  2.31484963e-01,\n",
       "         1.54868443e-01,  1.14178618e-02, -3.82136434e-01,\n",
       "         1.58432191e-01, -6.30333825e-01,  4.36314903e-01],\n",
       "       [-2.03187590e-01,  2.71188072e-01,  1.50747852e-01,\n",
       "        -8.24347382e-02, -2.89652704e-01, -1.87243944e-01,\n",
       "         6.33496177e-01,  1.35511416e-01, -4.82715804e-01,\n",
       "         1.09523310e-01,  1.93803397e-01, -1.85585663e-01],\n",
       "       [-8.76335214e-02,  1.29685884e-01,  1.03909034e-02,\n",
       "         9.84571106e-02, -8.21090913e-02,  3.74039927e-01,\n",
       "         1.73942763e-01,  2.00902106e-01,  4.56955032e-01,\n",
       "         7.01256439e-01,  1.67127427e-01,  1.41189875e-01]])"
      ]
     },
     "execution_count": 96,
     "metadata": {},
     "output_type": "execute_result"
    }
   ],
   "source": [
    "#TODO - then uncomment plotting code\n",
    "eval,evec=np.linalg.eigh(covariance)\n",
    "plt.subplot(212)\n",
    "plt.plot( eval, 'ok')\n",
    "plt.show()\n",
    "evec"
   ]
  },
  {
   "cell_type": "markdown",
   "metadata": {},
   "source": [
    "The next task is to sort the eigenvalues in descending order (If we were using the vectors to project the data, we would have to rearrange the eigenvectors correspondingly). \n",
    "\n",
    "Then you should write code to compute the cumulative sums of the resulting vector and express the values as a fraction of the total of the eigenvalues (compare with the lecture notes). Plot the cumulative sum. I have provided code to draw a threshold at 0.95."
   ]
  },
  {
   "cell_type": "code",
   "execution_count": 98,
   "metadata": {},
   "outputs": [
    {
     "name": "stdout",
     "output_type": "stream",
     "text": [
      "Sorted eigenvalues [1.00397935 0.70361087 0.40052509 0.18069873 0.13371042 0.06415758\n",
      " 0.03520677 0.03510271 0.01833937 0.01219935 0.00485289 0.00178382]\n",
      "[-0.18925487 -0.24360786 -0.29253973 -0.36766098  0.35795522 -0.02721953\n",
      " -0.23681771  0.57218062 -0.26174015  0.21032472  0.12769761 -0.20660713]\n",
      "-0.55728978386489\n",
      "[-0.10519487 -0.11455694 -0.33859562 -0.7452721  -0.16655644 -0.03536827\n",
      "  0.21753949 -0.37494179  0.18026927  0.03714638 -0.10874176  0.20768939]\n",
      "-1.346583263734725\n",
      "[ 0.74165499  0.05243936 -0.43720212  0.04002631 -0.18787694  0.21377423\n",
      "  0.03906073 -0.04280355 -0.2499352   0.18516968 -0.08432757 -0.25734916]\n",
      "0.012630754129085653\n",
      "[ 0.4628451  -0.14976315  0.53648788 -0.2742591  -0.07619568 -0.42496607\n",
      " -0.16827913  0.08541675 -0.05311815  0.31488206  0.07191208  0.26673712]\n",
      "0.5916997143457503\n",
      "[-0.17773965 -0.71572244  0.27602508  0.06980023 -0.25462489  0.33097186\n",
      "  0.00377914 -0.21690758 -0.20486466  0.16863889 -0.13899686 -0.25282398]\n",
      "-1.112464874491406\n",
      "[-0.11653313 -0.316135   -0.43762969  0.45619619  0.01398234 -0.5483515\n",
      "  0.10346929 -0.14399578 -0.07148481  0.28676765  0.01582762  0.25869314]\n",
      "-0.4991936802472657\n",
      "[-0.23146265  0.29628818 -0.01333327 -0.02071263 -0.36819963 -0.28098784\n",
      " -0.36123101  0.05274281  0.09208748  0.24526276 -0.5699823  -0.34164753]\n",
      "-1.5011756172124242\n",
      "[-0.19533515  0.22011722 -0.09820537 -0.00063632 -0.32941219  0.22131708\n",
      " -0.51178628 -0.17846974 -0.42711164  0.07747103  0.34208362  0.38344529]\n",
      "-0.4965224306319512\n",
      "[-0.04742131  0.21605317  0.11241248 -0.04833444  0.51529445 -0.07066822\n",
      " -0.08977412 -0.60135474 -0.08871965  0.33949682  0.18788913 -0.37075408]\n",
      "0.054119506496939696\n",
      "[-0.02689212  0.12990161  0.08835979  0.01824238  0.37113585  0.23148496\n",
      "  0.15486844  0.01141786 -0.38213643  0.15843219 -0.63033382  0.4363149 ]\n",
      "0.5607956115062347\n",
      "[-0.20318759  0.27118807  0.15074785 -0.08243474 -0.2896527  -0.18724394\n",
      "  0.63349618  0.13551142 -0.4827158   0.10952331  0.1938034  -0.18558566]\n",
      "0.06344978174069252\n",
      "[-0.08763352  0.12968588  0.0103909   0.09845711 -0.08210909  0.37403993\n",
      "  0.17394276  0.20090211  0.45695503  0.70125644  0.16712743  0.14118988]\n",
      "2.284204855927293\n",
      "[-0.55728978386489, -1.346583263734725, 0.012630754129085653, 0.5916997143457503, -1.112464874491406, -0.4991936802472657, -1.5011756172124242, -0.4965224306319512, 0.054119506496939696, 0.5607956115062347, 0.06344978174069252, 2.284204855927293]\n"
     ]
    },
    {
     "data": {
      "image/png": "[encoded data removed]",
      "text/plain": [
       "<Figure size 432x288 with 1 Axes>"
      ]
     },
     "metadata": {
      "needs_background": "light"
     },
     "output_type": "display_data"
    }
   ],
   "source": [
    "# Sort the eigenvalues - should also reorder the eigenvectors if applying them\n",
    "# Uncomment code when TODO section is complete\n",
    "sorted_eval = np.sort(eval)\n",
    "eval = sorted_eval[::-1]  # reverse the order so that it is decreasing\n",
    "print(\"Sorted eigenvalues \" + str(eval))\n",
    "\n",
    "# TODO Compute cumulative sum\n",
    "\n",
    "\n",
    "# Plot cumulative sum of eigenvalues with a threshold at 0.95\n",
    "# Uncomment code when TODO section is complete\n",
    "plt.figure(3)\n",
    "plt.plot(cumuleval, 'ok')\n",
    "xvals = range(ncols-1)\n",
    "plt.plot(xvals, 0.95*np.ones(np.shape(eval)), 'r-')\n",
    "plt.show()"
   ]
  },
  {
   "cell_type": "markdown",
   "metadata": {},
   "source": [
    "Now write code to apply PCA (look up the function definition) with 2 principal components and then project the data onto this space using the `transform` function (which automatically subtracts off the mean of each variable). Call the resulting variable `projX`. Generate a scatter plot of the result."
   ]
  },
  {
   "cell_type": "code",
   "execution_count": 101,
   "metadata": {},
   "outputs": [
    {
     "name": "stdout",
     "output_type": "stream",
     "text": [
      "Explained variance ratio [0.38701416 0.27122806]\n"
     ]
    },
    {
     "data": {
      "image/png": "[encoded data removed]",
      "text/plain": [
       "<Figure size 432x288 with 1 Axes>"
      ]
     },
     "metadata": {
      "needs_background": "light"
     },
     "output_type": "display_data"
    }
   ],
   "source": [
    "# Now apply PCA\n",
    "from sklearn.decomposition import PCA\n",
    "pca = PCA(n_components=2)\n",
    "pca.fit(data)\n",
    "# This should equal the sum of the first two values in the cumulative proportion plot\n",
    "print('Explained variance ratio '+ str(pca.explained_variance_ratio_))\n",
    "\n",
    "# Project data onto first two principal components\n",
    "projX = pca.transform(data)\n",
    "plt.figure(4)\n",
    "plt.plot(projX[:,0], projX[:,1], 'k.')\n",
    "plt.title('Projected data')\n",
    "plt.show()"
   ]
  },
  {
   "cell_type": "markdown",
   "metadata": {},
   "source": [
    "This graph is interesting - it shows the structure of the data quite well in terms of clusters and outliers. But we also have extra information that we can plot: namely the class labels. The following piece of code uses the label to colour each mark: red circle, green cross, and blue square for labels 1, 2, and 3 respectively."
   ]
  },
  {
   "cell_type": "code",
   "execution_count": null,
   "metadata": {},
   "outputs": [],
   "source": [
    "# Now plot the data with a different mark for each label\n",
    "marks = ('ro', 'g+', 'bs')\n",
    "plt.figure(6)\n",
    "for n in range(1, 4, 1) :\n",
    "    projClass = projX[np.equal(label, n*np.ones(label.shape))]\n",
    "    plt.plot(projClass[:,0], projClass[:,1], marks[n-1])\n",
    "\n",
    "plt.title('Projected data showing label')\n",
    "plt.show()"
   ]
  },
  {
   "cell_type": "markdown",
   "metadata": {},
   "source": [
    "## PCA: dimensionality reduction\n",
    "\n",
    "In this section, we will explore the use of PCA for dimensionality reduction and reconstruction. We will work with the digit dataset provided by `sklearn`, though it does have drawbacks given the small $8 \\times 8$ size of the images.\n",
    "\n",
    "Here we load the data and then display the first image, which is a zero."
   ]
  },
  {
   "cell_type": "code",
   "execution_count": null,
   "metadata": {},
   "outputs": [],
   "source": [
    "from sklearn.datasets import load_digits\n",
    "digits = load_digits()\n",
    " \n",
    "plt.gray() \n",
    "plt.matshow(digits.images[0]) \n",
    "plt.show() "
   ]
  },
  {
   "cell_type": "markdown",
   "metadata": {},
   "source": [
    "If you haven't seen this dataset before, it is useful to know what the objects are stored with it. Note that `data` is a matrix with one digit per row and 64 columns (representing the 64 pixel values) while `images` is a list of images each of which is an $8\\times 8$ matrix."
   ]
  },
  {
   "cell_type": "code",
   "execution_count": null,
   "metadata": {},
   "outputs": [],
   "source": [
    "print(digits.keys())"
   ]
  },
  {
   "cell_type": "markdown",
   "metadata": {},
   "source": [
    "Next, compute the top 30 principal components of the `data` and then show the first component as an image. N.B. You will need to reshape the component as an $8\\times 8$ matrix before plotting it."
   ]
  },
  {
   "cell_type": "code",
   "execution_count": null,
   "metadata": {},
   "outputs": [],
   "source": [
    "#TODO\n"
   ]
  },
  {
   "cell_type": "markdown",
   "metadata": {},
   "source": [
    "Next you should write code to project the first few rows (say $10$) of the data to the PCA subspace (using `transform`) and then _reconstruct_ the first digit in the original space using the `inverse_transform` function. Display the reconstructed digit as an image as before."
   ]
  },
  {
   "cell_type": "code",
   "execution_count": null,
   "metadata": {},
   "outputs": [],
   "source": [
    "#TODO\n"
   ]
  },
  {
   "cell_type": "markdown",
   "metadata": {},
   "source": [
    "By printing the first few values of the targets, we see that the digits are encoded by the corresponding number 0-9. "
   ]
  },
  {
   "cell_type": "code",
   "execution_count": null,
   "metadata": {},
   "outputs": [],
   "source": [
    "print(digits.target[0:20])\n"
   ]
  },
  {
   "cell_type": "markdown",
   "metadata": {},
   "source": [
    "You can use this fact to create a subset of the data consisting only of the digit 3. Write code to do this (you may find it useful to look at the indexing trick in the definition of `projClass` above) and then compute and show the first principal component. We can call it an _eigendigit_. How does this compare with the principal component computing on the entire dataset? Why do you think there is a difference?"
   ]
  },
  {
   "cell_type": "code",
   "execution_count": null,
   "metadata": {},
   "outputs": [],
   "source": [
    "#TODO\n"
   ]
  },
  {
   "cell_type": "markdown",
   "metadata": {},
   "source": [
    "The eigendigit for the entire dataset shows all the variations in all the digits so is not recognisably related to any specific digit. The low resolution makes interpretation difficult, but there is some indication that the eigendigit for 3 does have some structure in it."
   ]
  },
  {
   "cell_type": "markdown",
   "metadata": {},
   "source": [
    "## Fisher linear discriminant\n",
    "In this final exercise, we will explore the Fisher linear discriminant implementation and compare the results with PCA. We will work with the oil data again and extract the last column to a vector `label`."
   ]
  },
  {
   "cell_type": "code",
   "execution_count": null,
   "metadata": {},
   "outputs": [],
   "source": [
    "# Work with oil data again\n",
    "\n",
    "df = pandas.read_csv('oil.csv', index_col='ID')\n",
    "df.head()\n",
    "\n",
    "data = df.to_numpy()\n",
    "ncols = data.shape[1]\n",
    "\n",
    "X = data[:,0:ncols-1]\n",
    "label = data[:,ncols-1]"
   ]
  },
  {
   "cell_type": "markdown",
   "metadata": {},
   "source": [
    "Now apply `LinearDiscriminantAnalysis` from `sklearn` and project the data to a variable `projX`. The rest of the code in the next block plots the data in the same way as for PCA above. Write down two differences between the PCA and Fisher discriminant projections."
   ]
  },
  {
   "cell_type": "code",
   "execution_count": null,
   "metadata": {},
   "outputs": [],
   "source": [
    "#TODO\n",
    "\n",
    "# Now plot the data with a different mark for each label\n",
    "marks = ('ro', 'g+', 'bs')\n",
    "plt.figure()\n",
    "for n in range(1, 4, 1) :\n",
    "    projClass = projX[np.equal(label, n*np.ones(label.shape))]\n",
    "    plt.plot(projClass[:,0], projClass[:,1], marks[n-1])\n",
    "\n",
    "plt.title('Projected data showing label')\n",
    "plt.show()"
   ]
  }
 ],
 "metadata": {
  "kernelspec": {
   "display_name": "Python 3 (ipykernel)",
   "language": "python",
   "name": "python3"
  },
  "language_info": {
   "codemirror_mode": {
    "name": "ipython",
    "version": 3
   },
   "file_extension": ".py",
   "mimetype": "text/x-python",
   "name": "python",
   "nbconvert_exporter": "python",
   "pygments_lexer": "ipython3",
   "version": "3.9.12"
  }
 },
 "nbformat": 4,
 "nbformat_minor": 4
}
